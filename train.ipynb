{
  "cells": [
    {
      "cell_type": "markdown",
      "metadata": {
        "id": "jxFursVMrset"
      },
      "source": [
        "# CSIE5431 ADL HW2 B10705050"
      ]
    },
    {
      "cell_type": "markdown",
      "metadata": {
        "id": "YWUXV_NUr0CI"
      },
      "source": [
        "## Mount Google Drive"
      ]
    },
    {
      "cell_type": "code",
      "execution_count": 2,
      "metadata": {
        "colab": {
          "base_uri": "https://localhost:8080/"
        },
        "id": "jgm7B7W-SQ0R",
        "outputId": "e451044d-600c-4523-face-e6e2a9dde5af"
      },
      "outputs": [
        {
          "output_type": "stream",
          "name": "stdout",
          "text": [
            "Mounted at /content/drive\n"
          ]
        }
      ],
      "source": [
        "### 1. Google Colab Basics\n",
        "# Mount Google Drive\n",
        "from google.colab import drive\n",
        "drive.mount('/content/drive')"
      ]
    },
    {
      "cell_type": "code",
      "execution_count": 3,
      "metadata": {
        "id": "K0cdeju4SpdQ"
      },
      "outputs": [],
      "source": [
        "file_path_prefix = \"/content/drive/MyDrive/ADL/hw2\""
      ]
    },
    {
      "cell_type": "markdown",
      "metadata": {
        "id": "obbc2l2Vst9a"
      },
      "source": [
        "## Setup Evaluation"
      ]
    },
    {
      "cell_type": "code",
      "execution_count": null,
      "metadata": {
        "colab": {
          "base_uri": "https://localhost:8080/"
        },
        "id": "fhvH_DpF31Tz",
        "outputId": "34c1024c-5831-4570-856d-94cea2983545"
      },
      "outputs": [
        {
          "name": "stdout",
          "output_type": "stream",
          "text": [
            "Cloning into '/content/drive/MyDrive/ADL/hw2/evaluation'...\n",
            "remote: Enumerating objects: 71, done.\u001b[K\n",
            "remote: Counting objects: 100% (71/71), done.\u001b[K\n",
            "remote: Compressing objects: 100% (66/66), done.\u001b[K\n",
            "remote: Total 71 (delta 22), reused 26 (delta 4), pack-reused 0 (from 0)\u001b[K\n",
            "Receiving objects: 100% (71/71), 18.58 KiB | 1.03 MiB/s, done.\n",
            "Resolving deltas: 100% (22/22), done.\n"
          ]
        }
      ],
      "source": [
        "!git clone https://github.com/deankuo/ADL24-HW2.git {file_path_prefix}/evaluation"
      ]
    },
    {
      "cell_type": "code",
      "execution_count": 4,
      "metadata": {
        "colab": {
          "base_uri": "https://localhost:8080/"
        },
        "id": "0FwJjpZS35Ni",
        "outputId": "fb70b0d0-859e-4ca2-bcab-7ad31cc55668"
      },
      "outputs": [
        {
          "output_type": "stream",
          "name": "stdout",
          "text": [
            "Obtaining file:///content/drive/MyDrive/ADL/hw2/evaluation/tw_rouge\n",
            "  Preparing metadata (setup.py) ... \u001b[?25l\u001b[?25hdone\n",
            "Collecting ckiptagger[gdown,tf] (from tw_rouge==0.1.0)\n",
            "  Downloading ckiptagger-0.2.1-py3-none-any.whl.metadata (11 kB)\n",
            "Collecting rouge (from tw_rouge==0.1.0)\n",
            "  Downloading rouge-1.0.1-py3-none-any.whl.metadata (4.1 kB)\n",
            "Requirement already satisfied: tensorflow>=1.13.1 in /usr/local/lib/python3.10/dist-packages (from ckiptagger[gdown,tf]->tw_rouge==0.1.0) (2.17.0)\n",
            "Requirement already satisfied: gdown in /usr/local/lib/python3.10/dist-packages (from ckiptagger[gdown,tf]->tw_rouge==0.1.0) (5.2.0)\n",
            "Requirement already satisfied: six in /usr/local/lib/python3.10/dist-packages (from rouge->tw_rouge==0.1.0) (1.16.0)\n",
            "Requirement already satisfied: absl-py>=1.0.0 in /usr/local/lib/python3.10/dist-packages (from tensorflow>=1.13.1->ckiptagger[gdown,tf]->tw_rouge==0.1.0) (1.4.0)\n",
            "Requirement already satisfied: astunparse>=1.6.0 in /usr/local/lib/python3.10/dist-packages (from tensorflow>=1.13.1->ckiptagger[gdown,tf]->tw_rouge==0.1.0) (1.6.3)\n",
            "Requirement already satisfied: flatbuffers>=24.3.25 in /usr/local/lib/python3.10/dist-packages (from tensorflow>=1.13.1->ckiptagger[gdown,tf]->tw_rouge==0.1.0) (24.3.25)\n",
            "Requirement already satisfied: gast!=0.5.0,!=0.5.1,!=0.5.2,>=0.2.1 in /usr/local/lib/python3.10/dist-packages (from tensorflow>=1.13.1->ckiptagger[gdown,tf]->tw_rouge==0.1.0) (0.6.0)\n",
            "Requirement already satisfied: google-pasta>=0.1.1 in /usr/local/lib/python3.10/dist-packages (from tensorflow>=1.13.1->ckiptagger[gdown,tf]->tw_rouge==0.1.0) (0.2.0)\n",
            "Requirement already satisfied: h5py>=3.10.0 in /usr/local/lib/python3.10/dist-packages (from tensorflow>=1.13.1->ckiptagger[gdown,tf]->tw_rouge==0.1.0) (3.11.0)\n",
            "Requirement already satisfied: libclang>=13.0.0 in /usr/local/lib/python3.10/dist-packages (from tensorflow>=1.13.1->ckiptagger[gdown,tf]->tw_rouge==0.1.0) (18.1.1)\n",
            "Requirement already satisfied: ml-dtypes<0.5.0,>=0.3.1 in /usr/local/lib/python3.10/dist-packages (from tensorflow>=1.13.1->ckiptagger[gdown,tf]->tw_rouge==0.1.0) (0.4.1)\n",
            "Requirement already satisfied: opt-einsum>=2.3.2 in /usr/local/lib/python3.10/dist-packages (from tensorflow>=1.13.1->ckiptagger[gdown,tf]->tw_rouge==0.1.0) (3.4.0)\n",
            "Requirement already satisfied: packaging in /usr/local/lib/python3.10/dist-packages (from tensorflow>=1.13.1->ckiptagger[gdown,tf]->tw_rouge==0.1.0) (24.1)\n",
            "Requirement already satisfied: protobuf!=4.21.0,!=4.21.1,!=4.21.2,!=4.21.3,!=4.21.4,!=4.21.5,<5.0.0dev,>=3.20.3 in /usr/local/lib/python3.10/dist-packages (from tensorflow>=1.13.1->ckiptagger[gdown,tf]->tw_rouge==0.1.0) (3.20.3)\n",
            "Requirement already satisfied: requests<3,>=2.21.0 in /usr/local/lib/python3.10/dist-packages (from tensorflow>=1.13.1->ckiptagger[gdown,tf]->tw_rouge==0.1.0) (2.32.3)\n",
            "Requirement already satisfied: setuptools in /usr/local/lib/python3.10/dist-packages (from tensorflow>=1.13.1->ckiptagger[gdown,tf]->tw_rouge==0.1.0) (75.1.0)\n",
            "Requirement already satisfied: termcolor>=1.1.0 in /usr/local/lib/python3.10/dist-packages (from tensorflow>=1.13.1->ckiptagger[gdown,tf]->tw_rouge==0.1.0) (2.5.0)\n",
            "Requirement already satisfied: typing-extensions>=3.6.6 in /usr/local/lib/python3.10/dist-packages (from tensorflow>=1.13.1->ckiptagger[gdown,tf]->tw_rouge==0.1.0) (4.12.2)\n",
            "Requirement already satisfied: wrapt>=1.11.0 in /usr/local/lib/python3.10/dist-packages (from tensorflow>=1.13.1->ckiptagger[gdown,tf]->tw_rouge==0.1.0) (1.16.0)\n",
            "Requirement already satisfied: grpcio<2.0,>=1.24.3 in /usr/local/lib/python3.10/dist-packages (from tensorflow>=1.13.1->ckiptagger[gdown,tf]->tw_rouge==0.1.0) (1.64.1)\n",
            "Requirement already satisfied: tensorboard<2.18,>=2.17 in /usr/local/lib/python3.10/dist-packages (from tensorflow>=1.13.1->ckiptagger[gdown,tf]->tw_rouge==0.1.0) (2.17.0)\n",
            "Requirement already satisfied: keras>=3.2.0 in /usr/local/lib/python3.10/dist-packages (from tensorflow>=1.13.1->ckiptagger[gdown,tf]->tw_rouge==0.1.0) (3.4.1)\n",
            "Requirement already satisfied: tensorflow-io-gcs-filesystem>=0.23.1 in /usr/local/lib/python3.10/dist-packages (from tensorflow>=1.13.1->ckiptagger[gdown,tf]->tw_rouge==0.1.0) (0.37.1)\n",
            "Requirement already satisfied: numpy<2.0.0,>=1.23.5 in /usr/local/lib/python3.10/dist-packages (from tensorflow>=1.13.1->ckiptagger[gdown,tf]->tw_rouge==0.1.0) (1.26.4)\n",
            "Requirement already satisfied: beautifulsoup4 in /usr/local/lib/python3.10/dist-packages (from gdown->ckiptagger[gdown,tf]->tw_rouge==0.1.0) (4.12.3)\n",
            "Requirement already satisfied: filelock in /usr/local/lib/python3.10/dist-packages (from gdown->ckiptagger[gdown,tf]->tw_rouge==0.1.0) (3.16.1)\n",
            "Requirement already satisfied: tqdm in /usr/local/lib/python3.10/dist-packages (from gdown->ckiptagger[gdown,tf]->tw_rouge==0.1.0) (4.66.5)\n",
            "Requirement already satisfied: wheel<1.0,>=0.23.0 in /usr/local/lib/python3.10/dist-packages (from astunparse>=1.6.0->tensorflow>=1.13.1->ckiptagger[gdown,tf]->tw_rouge==0.1.0) (0.44.0)\n",
            "Requirement already satisfied: rich in /usr/local/lib/python3.10/dist-packages (from keras>=3.2.0->tensorflow>=1.13.1->ckiptagger[gdown,tf]->tw_rouge==0.1.0) (13.9.2)\n",
            "Requirement already satisfied: namex in /usr/local/lib/python3.10/dist-packages (from keras>=3.2.0->tensorflow>=1.13.1->ckiptagger[gdown,tf]->tw_rouge==0.1.0) (0.0.8)\n",
            "Requirement already satisfied: optree in /usr/local/lib/python3.10/dist-packages (from keras>=3.2.0->tensorflow>=1.13.1->ckiptagger[gdown,tf]->tw_rouge==0.1.0) (0.13.0)\n",
            "Requirement already satisfied: charset-normalizer<4,>=2 in /usr/local/lib/python3.10/dist-packages (from requests<3,>=2.21.0->tensorflow>=1.13.1->ckiptagger[gdown,tf]->tw_rouge==0.1.0) (3.4.0)\n",
            "Requirement already satisfied: idna<4,>=2.5 in /usr/local/lib/python3.10/dist-packages (from requests<3,>=2.21.0->tensorflow>=1.13.1->ckiptagger[gdown,tf]->tw_rouge==0.1.0) (3.10)\n",
            "Requirement already satisfied: urllib3<3,>=1.21.1 in /usr/local/lib/python3.10/dist-packages (from requests<3,>=2.21.0->tensorflow>=1.13.1->ckiptagger[gdown,tf]->tw_rouge==0.1.0) (2.2.3)\n",
            "Requirement already satisfied: certifi>=2017.4.17 in /usr/local/lib/python3.10/dist-packages (from requests<3,>=2.21.0->tensorflow>=1.13.1->ckiptagger[gdown,tf]->tw_rouge==0.1.0) (2024.8.30)\n",
            "Requirement already satisfied: markdown>=2.6.8 in /usr/local/lib/python3.10/dist-packages (from tensorboard<2.18,>=2.17->tensorflow>=1.13.1->ckiptagger[gdown,tf]->tw_rouge==0.1.0) (3.7)\n",
            "Requirement already satisfied: tensorboard-data-server<0.8.0,>=0.7.0 in /usr/local/lib/python3.10/dist-packages (from tensorboard<2.18,>=2.17->tensorflow>=1.13.1->ckiptagger[gdown,tf]->tw_rouge==0.1.0) (0.7.2)\n",
            "Requirement already satisfied: werkzeug>=1.0.1 in /usr/local/lib/python3.10/dist-packages (from tensorboard<2.18,>=2.17->tensorflow>=1.13.1->ckiptagger[gdown,tf]->tw_rouge==0.1.0) (3.0.4)\n",
            "Requirement already satisfied: soupsieve>1.2 in /usr/local/lib/python3.10/dist-packages (from beautifulsoup4->gdown->ckiptagger[gdown,tf]->tw_rouge==0.1.0) (2.6)\n",
            "Requirement already satisfied: PySocks!=1.5.7,>=1.5.6 in /usr/local/lib/python3.10/dist-packages (from requests[socks]->gdown->ckiptagger[gdown,tf]->tw_rouge==0.1.0) (1.7.1)\n",
            "Requirement already satisfied: MarkupSafe>=2.1.1 in /usr/local/lib/python3.10/dist-packages (from werkzeug>=1.0.1->tensorboard<2.18,>=2.17->tensorflow>=1.13.1->ckiptagger[gdown,tf]->tw_rouge==0.1.0) (3.0.1)\n",
            "Requirement already satisfied: markdown-it-py>=2.2.0 in /usr/local/lib/python3.10/dist-packages (from rich->keras>=3.2.0->tensorflow>=1.13.1->ckiptagger[gdown,tf]->tw_rouge==0.1.0) (3.0.0)\n",
            "Requirement already satisfied: pygments<3.0.0,>=2.13.0 in /usr/local/lib/python3.10/dist-packages (from rich->keras>=3.2.0->tensorflow>=1.13.1->ckiptagger[gdown,tf]->tw_rouge==0.1.0) (2.18.0)\n",
            "Requirement already satisfied: mdurl~=0.1 in /usr/local/lib/python3.10/dist-packages (from markdown-it-py>=2.2.0->rich->keras>=3.2.0->tensorflow>=1.13.1->ckiptagger[gdown,tf]->tw_rouge==0.1.0) (0.1.2)\n",
            "Downloading rouge-1.0.1-py3-none-any.whl (13 kB)\n",
            "Downloading ckiptagger-0.2.1-py3-none-any.whl (34 kB)\n",
            "Installing collected packages: rouge, ckiptagger, tw_rouge\n",
            "  Running setup.py develop for tw_rouge\n",
            "Successfully installed ckiptagger-0.2.1 rouge-1.0.1 tw_rouge-0.1.0\n"
          ]
        }
      ],
      "source": [
        "!cd {file_path_prefix}/evaluation && pip install -e tw_rouge"
      ]
    },
    {
      "cell_type": "markdown",
      "metadata": {
        "id": "fdGKC8I-rkiX"
      },
      "source": [
        "## Load Data and Packages"
      ]
    },
    {
      "cell_type": "code",
      "source": [
        "import os\n",
        "import json\n",
        "import torch\n",
        "from transformers import T5ForConditionalGeneration, T5Tokenizer, Adafactor\n",
        "from torch.utils.data import Dataset, DataLoader, random_split\n",
        "from tqdm import tqdm\n",
        "import argparse\n",
        "import matplotlib.pyplot as plt\n",
        "from accelerate import Accelerator\n",
        "from argparse import Namespace"
      ],
      "metadata": {
        "id": "VaQ_oldD7rko"
      },
      "execution_count": 5,
      "outputs": []
    },
    {
      "cell_type": "code",
      "execution_count": null,
      "metadata": {
        "id": "q66dhEacs6Mg",
        "colab": {
          "base_uri": "https://localhost:8080/",
          "height": 722
        },
        "outputId": "9467c075-3421-4d92-967c-9d52874cc74b"
      },
      "outputs": [
        {
          "output_type": "error",
          "ename": "FileURLRetrievalError",
          "evalue": "Failed to retrieve file url:\n\n\tToo many users have viewed or downloaded this file recently. Please\n\ttry accessing the file again later. If the file you are trying to\n\taccess is particularly large or is shared with many people, it may\n\ttake up to 24 hours to be able to view or download the file. If you\n\tstill can't access a file after 24 hours, contact your domain\n\tadministrator.\n\nYou may still be able to access the file from the browser:\n\n\thttps://drive.google.com/uc?id=1efHsY16pxK0lBD2gYCgCTnv1Swstq771\n\nbut Gdown can't. Please check connections and permissions.",
          "traceback": [
            "\u001b[0;31m---------------------------------------------------------------------------\u001b[0m",
            "\u001b[0;31mFileURLRetrievalError\u001b[0m                     Traceback (most recent call last)",
            "\u001b[0;32m/usr/local/lib/python3.10/dist-packages/gdown/download.py\u001b[0m in \u001b[0;36mdownload\u001b[0;34m(url, output, quiet, proxy, speed, use_cookies, verify, id, fuzzy, resume, format, user_agent, log_messages)\u001b[0m\n\u001b[1;32m    266\u001b[0m         \u001b[0;32mtry\u001b[0m\u001b[0;34m:\u001b[0m\u001b[0;34m\u001b[0m\u001b[0;34m\u001b[0m\u001b[0m\n\u001b[0;32m--> 267\u001b[0;31m             \u001b[0murl\u001b[0m \u001b[0;34m=\u001b[0m \u001b[0mget_url_from_gdrive_confirmation\u001b[0m\u001b[0;34m(\u001b[0m\u001b[0mres\u001b[0m\u001b[0;34m.\u001b[0m\u001b[0mtext\u001b[0m\u001b[0;34m)\u001b[0m\u001b[0;34m\u001b[0m\u001b[0;34m\u001b[0m\u001b[0m\n\u001b[0m\u001b[1;32m    268\u001b[0m         \u001b[0;32mexcept\u001b[0m \u001b[0mFileURLRetrievalError\u001b[0m \u001b[0;32mas\u001b[0m \u001b[0me\u001b[0m\u001b[0;34m:\u001b[0m\u001b[0;34m\u001b[0m\u001b[0;34m\u001b[0m\u001b[0m\n",
            "\u001b[0;32m/usr/local/lib/python3.10/dist-packages/gdown/download.py\u001b[0m in \u001b[0;36mget_url_from_gdrive_confirmation\u001b[0;34m(contents)\u001b[0m\n\u001b[1;32m     52\u001b[0m             \u001b[0merror\u001b[0m \u001b[0;34m=\u001b[0m \u001b[0mm\u001b[0m\u001b[0;34m.\u001b[0m\u001b[0mgroups\u001b[0m\u001b[0;34m(\u001b[0m\u001b[0;34m)\u001b[0m\u001b[0;34m[\u001b[0m\u001b[0;36m0\u001b[0m\u001b[0;34m]\u001b[0m\u001b[0;34m\u001b[0m\u001b[0;34m\u001b[0m\u001b[0m\n\u001b[0;32m---> 53\u001b[0;31m             \u001b[0;32mraise\u001b[0m \u001b[0mFileURLRetrievalError\u001b[0m\u001b[0;34m(\u001b[0m\u001b[0merror\u001b[0m\u001b[0;34m)\u001b[0m\u001b[0;34m\u001b[0m\u001b[0;34m\u001b[0m\u001b[0m\n\u001b[0m\u001b[1;32m     54\u001b[0m     \u001b[0;32mif\u001b[0m \u001b[0;32mnot\u001b[0m \u001b[0murl\u001b[0m\u001b[0;34m:\u001b[0m\u001b[0;34m\u001b[0m\u001b[0;34m\u001b[0m\u001b[0m\n",
            "\u001b[0;31mFileURLRetrievalError\u001b[0m: Too many users have viewed or downloaded this file recently. Please try accessing the file again later. If the file you are trying to access is particularly large or is shared with many people, it may take up to 24 hours to be able to view or download the file. If you still can't access a file after 24 hours, contact your domain administrator.",
            "\nDuring handling of the above exception, another exception occurred:\n",
            "\u001b[0;31mFileURLRetrievalError\u001b[0m                     Traceback (most recent call last)",
            "\u001b[0;32m<ipython-input-19-a9ececb69bac>\u001b[0m in \u001b[0;36m<cell line: 3>\u001b[0;34m()\u001b[0m\n\u001b[1;32m      1\u001b[0m \u001b[0;32mimport\u001b[0m \u001b[0msys\u001b[0m\u001b[0;34m\u001b[0m\u001b[0;34m\u001b[0m\u001b[0m\n\u001b[1;32m      2\u001b[0m \u001b[0msys\u001b[0m\u001b[0;34m.\u001b[0m\u001b[0mpath\u001b[0m\u001b[0;34m.\u001b[0m\u001b[0mappend\u001b[0m\u001b[0;34m(\u001b[0m\u001b[0mfile_path_prefix\u001b[0m\u001b[0;34m)\u001b[0m\u001b[0;34m\u001b[0m\u001b[0;34m\u001b[0m\u001b[0m\n\u001b[0;32m----> 3\u001b[0;31m \u001b[0;32mfrom\u001b[0m \u001b[0mevaluation\u001b[0m\u001b[0;34m.\u001b[0m\u001b[0mtw_rouge\u001b[0m\u001b[0;34m.\u001b[0m\u001b[0mtw_rouge\u001b[0m\u001b[0;34m.\u001b[0m\u001b[0mtwrouge\u001b[0m \u001b[0;32mimport\u001b[0m \u001b[0mget_rouge\u001b[0m\u001b[0;34m\u001b[0m\u001b[0;34m\u001b[0m\u001b[0m\n\u001b[0m",
            "\u001b[0;32m/content/drive/MyDrive/ADL/hw2/evaluation/tw_rouge/tw_rouge/__init__.py\u001b[0m in \u001b[0;36m<module>\u001b[0;34m\u001b[0m\n\u001b[0;32m----> 1\u001b[0;31m \u001b[0;32mfrom\u001b[0m \u001b[0;34m.\u001b[0m\u001b[0mtwrouge\u001b[0m \u001b[0;32mimport\u001b[0m \u001b[0mget_rouge\u001b[0m\u001b[0;34m\u001b[0m\u001b[0;34m\u001b[0m\u001b[0m\n\u001b[0m",
            "\u001b[0;32m/content/drive/MyDrive/ADL/hw2/evaluation/tw_rouge/tw_rouge/twrouge.py\u001b[0m in \u001b[0;36m<module>\u001b[0;34m\u001b[0m\n\u001b[1;32m     10\u001b[0m \u001b[0mos\u001b[0m\u001b[0;34m.\u001b[0m\u001b[0menviron\u001b[0m\u001b[0;34m[\u001b[0m\u001b[0;34m\"TF_USE_LEGACY_KERAS\"\u001b[0m\u001b[0;34m]\u001b[0m \u001b[0;34m=\u001b[0m \u001b[0;34m\"1\"\u001b[0m\u001b[0;34m\u001b[0m\u001b[0;34m\u001b[0m\u001b[0m\n\u001b[1;32m     11\u001b[0m \u001b[0;32mif\u001b[0m \u001b[0;32mnot\u001b[0m \u001b[0mos\u001b[0m\u001b[0;34m.\u001b[0m\u001b[0mpath\u001b[0m\u001b[0;34m.\u001b[0m\u001b[0mexists\u001b[0m\u001b[0;34m(\u001b[0m\u001b[0mos\u001b[0m\u001b[0;34m.\u001b[0m\u001b[0mpath\u001b[0m\u001b[0;34m.\u001b[0m\u001b[0mjoin\u001b[0m\u001b[0;34m(\u001b[0m\u001b[0mdata_dir\u001b[0m\u001b[0;34m,\u001b[0m \u001b[0;34m\"model_ws\"\u001b[0m\u001b[0;34m)\u001b[0m\u001b[0;34m)\u001b[0m\u001b[0;34m:\u001b[0m\u001b[0;34m\u001b[0m\u001b[0;34m\u001b[0m\u001b[0m\n\u001b[0;32m---> 12\u001b[0;31m     \u001b[0mdata_utils\u001b[0m\u001b[0;34m.\u001b[0m\u001b[0mdownload_data_gdown\u001b[0m\u001b[0;34m(\u001b[0m\u001b[0mdownload_dir\u001b[0m\u001b[0;34m)\u001b[0m\u001b[0;34m\u001b[0m\u001b[0;34m\u001b[0m\u001b[0m\n\u001b[0m\u001b[1;32m     13\u001b[0m \u001b[0;34m\u001b[0m\u001b[0m\n\u001b[1;32m     14\u001b[0m \u001b[0mws\u001b[0m \u001b[0;34m=\u001b[0m \u001b[0mWS\u001b[0m\u001b[0;34m(\u001b[0m\u001b[0mdata_dir\u001b[0m\u001b[0;34m,\u001b[0m \u001b[0mdisable_cuda\u001b[0m\u001b[0;34m=\u001b[0m\u001b[0;32mFalse\u001b[0m\u001b[0;34m)\u001b[0m\u001b[0;34m\u001b[0m\u001b[0;34m\u001b[0m\u001b[0m\n",
            "\u001b[0;32m/usr/local/lib/python3.10/dist-packages/ckiptagger/data_utils.py\u001b[0m in \u001b[0;36mdownload_data_gdown\u001b[0;34m(path)\u001b[0m\n\u001b[1;32m      9\u001b[0m     \u001b[0murl\u001b[0m \u001b[0;34m=\u001b[0m \u001b[0;34mf\"https://drive.google.com/uc?id={file_id}\"\u001b[0m\u001b[0;34m\u001b[0m\u001b[0;34m\u001b[0m\u001b[0m\n\u001b[1;32m     10\u001b[0m     \u001b[0mdata_zip\u001b[0m \u001b[0;34m=\u001b[0m \u001b[0mos\u001b[0m\u001b[0;34m.\u001b[0m\u001b[0mpath\u001b[0m\u001b[0;34m.\u001b[0m\u001b[0mjoin\u001b[0m\u001b[0;34m(\u001b[0m\u001b[0mpath\u001b[0m\u001b[0;34m,\u001b[0m \u001b[0;34m\"data.zip\"\u001b[0m\u001b[0;34m)\u001b[0m\u001b[0;34m\u001b[0m\u001b[0;34m\u001b[0m\u001b[0m\n\u001b[0;32m---> 11\u001b[0;31m     \u001b[0mgdown\u001b[0m\u001b[0;34m.\u001b[0m\u001b[0mdownload\u001b[0m\u001b[0;34m(\u001b[0m\u001b[0murl\u001b[0m\u001b[0;34m,\u001b[0m \u001b[0mdata_zip\u001b[0m\u001b[0;34m,\u001b[0m \u001b[0mquiet\u001b[0m\u001b[0;34m=\u001b[0m\u001b[0;32mFalse\u001b[0m\u001b[0;34m)\u001b[0m\u001b[0;34m\u001b[0m\u001b[0;34m\u001b[0m\u001b[0m\n\u001b[0m\u001b[1;32m     12\u001b[0m \u001b[0;34m\u001b[0m\u001b[0m\n\u001b[1;32m     13\u001b[0m     \u001b[0;32mwith\u001b[0m \u001b[0mzipfile\u001b[0m\u001b[0;34m.\u001b[0m\u001b[0mZipFile\u001b[0m\u001b[0;34m(\u001b[0m\u001b[0mdata_zip\u001b[0m\u001b[0;34m,\u001b[0m \u001b[0;34m\"r\"\u001b[0m\u001b[0;34m)\u001b[0m \u001b[0;32mas\u001b[0m \u001b[0mzip_ref\u001b[0m\u001b[0;34m:\u001b[0m\u001b[0;34m\u001b[0m\u001b[0;34m\u001b[0m\u001b[0m\n",
            "\u001b[0;32m/usr/local/lib/python3.10/dist-packages/gdown/download.py\u001b[0m in \u001b[0;36mdownload\u001b[0;34m(url, output, quiet, proxy, speed, use_cookies, verify, id, fuzzy, resume, format, user_agent, log_messages)\u001b[0m\n\u001b[1;32m    276\u001b[0m                 \u001b[0murl_origin\u001b[0m\u001b[0;34m,\u001b[0m\u001b[0;34m\u001b[0m\u001b[0;34m\u001b[0m\u001b[0m\n\u001b[1;32m    277\u001b[0m             )\n\u001b[0;32m--> 278\u001b[0;31m             \u001b[0;32mraise\u001b[0m \u001b[0mFileURLRetrievalError\u001b[0m\u001b[0;34m(\u001b[0m\u001b[0mmessage\u001b[0m\u001b[0;34m)\u001b[0m\u001b[0;34m\u001b[0m\u001b[0;34m\u001b[0m\u001b[0m\n\u001b[0m\u001b[1;32m    279\u001b[0m \u001b[0;34m\u001b[0m\u001b[0m\n\u001b[1;32m    280\u001b[0m     \u001b[0mfilename_from_url\u001b[0m \u001b[0;34m=\u001b[0m \u001b[0;32mNone\u001b[0m\u001b[0;34m\u001b[0m\u001b[0;34m\u001b[0m\u001b[0m\n",
            "\u001b[0;31mFileURLRetrievalError\u001b[0m: Failed to retrieve file url:\n\n\tToo many users have viewed or downloaded this file recently. Please\n\ttry accessing the file again later. If the file you are trying to\n\taccess is particularly large or is shared with many people, it may\n\ttake up to 24 hours to be able to view or download the file. If you\n\tstill can't access a file after 24 hours, contact your domain\n\tadministrator.\n\nYou may still be able to access the file from the browser:\n\n\thttps://drive.google.com/uc?id=1efHsY16pxK0lBD2gYCgCTnv1Swstq771\n\nbut Gdown can't. Please check connections and permissions."
          ]
        }
      ],
      "source": [
        "import sys\n",
        "sys.path.append(file_path_prefix)\n",
        "from evaluation.tw_rouge.tw_rouge.twrouge import get_rouge"
      ]
    },
    {
      "cell_type": "code",
      "execution_count": 6,
      "metadata": {
        "id": "XDaf1ZOEzjjr"
      },
      "outputs": [],
      "source": [
        "# Define dataset class\n",
        "class NewsSummaryDataset(Dataset):\n",
        "    def __init__(self, filepath, tokenizer, max_input_length=256, max_output_length=64, max_train=-1):\n",
        "        self.data = []\n",
        "        with open(filepath, \"r\", encoding=\"utf-8\") as f:\n",
        "            for idx, line in enumerate(f):\n",
        "                if max_train != -1 and idx >= max_train:\n",
        "                    break\n",
        "                self.data.append(json.loads(line))\n",
        "        self.tokenizer = tokenizer\n",
        "        self.max_input_length = max_input_length\n",
        "        self.max_output_length = max_output_length\n",
        "\n",
        "    def __len__(self):\n",
        "        return len(self.data)\n",
        "\n",
        "    def __getitem__(self, idx):\n",
        "        item = self.data[idx]\n",
        "        id = item[\"id\"]\n",
        "        maintext = item[\"maintext\"]\n",
        "        title = item[\"title\"]\n",
        "        inputs = self.tokenizer(\n",
        "            maintext,\n",
        "            max_length=self.max_input_length,\n",
        "            truncation=True,\n",
        "            padding=\"max_length\",\n",
        "            return_tensors=\"pt\",\n",
        "        )\n",
        "        labels = self.tokenizer(\n",
        "            title,\n",
        "            max_length=self.max_output_length,\n",
        "            truncation=True,\n",
        "            padding=\"max_length\",\n",
        "            return_tensors=\"pt\",\n",
        "        )\n",
        "        return {\n",
        "            \"input_ids\": inputs[\"input_ids\"].squeeze(),\n",
        "            \"attention_mask\": inputs[\"attention_mask\"].squeeze(),\n",
        "            \"labels\": labels[\"input_ids\"].squeeze(),\n",
        "            \"id\": id\n",
        "        }"
      ]
    },
    {
      "cell_type": "markdown",
      "metadata": {
        "id": "uqg-woho-SJo"
      },
      "source": [
        "## Setting Hyperparameters"
      ]
    },
    {
      "cell_type": "code",
      "execution_count": null,
      "metadata": {
        "colab": {
          "base_uri": "https://localhost:8080/"
        },
        "id": "xgWfbM2V0TUv",
        "outputId": "7b7c7320-bd7f-4ea1-b85f-eb97c16a430f"
      },
      "outputs": [
        {
          "output_type": "stream",
          "name": "stdout",
          "text": [
            "google/mt5-small\n"
          ]
        }
      ],
      "source": [
        "# args = {\n",
        "#     \"model_name\": \"google/mt5-small\",\n",
        "#     \"train_data_path\": f\"{file_path_prefix}/data/train.jsonl\",\n",
        "#     \"model_save_path\": f\"models\",\n",
        "#     \"batch_size\": 32,\n",
        "#     \"learning_rate\": 5e-5,\n",
        "#     \"epochs\": 8,\n",
        "#     \"max_input_length\": 256,\n",
        "#     \"max_output_length\": 64,\n",
        "#     \"gradient_accumulation_steps\": 1,\n",
        "#     \"validation_split\": 0.1,\n",
        "#     \"use_fp16\": False,\n",
        "#     \"use_adafactor\": True\n",
        "# }\n",
        "\n",
        "args = {\n",
        "    \"model_name\": \"google/mt5-small\",\n",
        "    \"train_data_path\": f\"{file_path_prefix}/data/train.jsonl\",\n",
        "    \"model_save_path\": f\"models\",\n",
        "    \"batch_size\": 24,\n",
        "    \"learning_rate\": 5e-5,\n",
        "    \"epochs\": 8,\n",
        "    \"max_input_length\": 512,\n",
        "    \"max_output_length\": 100,\n",
        "    \"gradient_accumulation_steps\": 5,\n",
        "    \"validation_split\": 0.1,\n",
        "    \"use_fp16\": False,\n",
        "    \"use_adafactor\": True\n",
        "}\n",
        "\n",
        "\n",
        "args = Namespace(**args)\n",
        "\n",
        "# Now you can access attributes using dot notation\n",
        "print(args.model_name)"
      ]
    },
    {
      "cell_type": "markdown",
      "metadata": {
        "id": "BwZtciIy-V91"
      },
      "source": [
        "## Training"
      ]
    },
    {
      "cell_type": "code",
      "execution_count": null,
      "metadata": {
        "id": "5Vf7zVu9zyjU"
      },
      "outputs": [],
      "source": [
        "# Initialize Accelerator\n",
        "accelerator = Accelerator()\n",
        "\n",
        "# Load pre-trained multilingual T5 model and tokenizer\n",
        "tokenizer = T5Tokenizer.from_pretrained(args.model_name)\n",
        "\n",
        "# Prepare dataset\n",
        "dataset = NewsSummaryDataset(\n",
        "    filepath=args.train_data_path,\n",
        "    tokenizer=tokenizer,\n",
        "    max_input_length=args.max_input_length,\n",
        "    max_output_length=args.max_output_length,\n",
        "    # max_train=1000\n",
        ")\n",
        "\n",
        "# Split dataset into training and validation if required\n",
        "if args.validation_split:\n",
        "    train_size = int((1 - args.validation_split) * len(dataset))\n",
        "    val_size = len(dataset) - train_size\n",
        "    train_dataset, val_dataset = random_split(dataset, [train_size, val_size])\n",
        "    train_dataloader = DataLoader(\n",
        "        train_dataset, batch_size=args.batch_size, shuffle=True\n",
        "    )\n",
        "    val_dataloader = DataLoader(\n",
        "        val_dataset, batch_size=args.batch_size, shuffle=False\n",
        "    )\n",
        "else:\n",
        "    train_dataloader = DataLoader(dataset, batch_size=args.batch_size, shuffle=True)\n",
        "    val_dataloader = None"
      ]
    },
    {
      "cell_type": "code",
      "execution_count": null,
      "metadata": {
        "colab": {
          "base_uri": "https://localhost:8080/"
        },
        "id": "Izdpf6u6zzAd",
        "outputId": "2e2881b6-59ac-44bf-9341-4510fef09638"
      },
      "outputs": [
        {
          "output_type": "stream",
          "name": "stderr",
          "text": [
            "You are using a model of type mt5 to instantiate a model of type t5. This is not supported for all configurations of models and can yield errors.\n",
            "Epoch 1:   0%|          | 1/815 [00:00<08:31,  1.59it/s, loss=4.81]"
          ]
        },
        {
          "output_type": "stream",
          "name": "stdout",
          "text": [
            "Epoch 1, Batch 1/815, Loss: 4.810384273529053\n"
          ]
        },
        {
          "output_type": "stream",
          "name": "stderr",
          "text": [
            "Epoch 1:   0%|          | 2/815 [00:01<07:04,  1.91it/s, loss=4.64]"
          ]
        },
        {
          "output_type": "stream",
          "name": "stdout",
          "text": [
            "Epoch 1, Batch 2/815, Loss: 4.643802165985107\n"
          ]
        },
        {
          "output_type": "stream",
          "name": "stderr",
          "text": [
            "Epoch 1:   0%|          | 3/815 [00:01<06:44,  2.01it/s, loss=4.21]"
          ]
        },
        {
          "output_type": "stream",
          "name": "stdout",
          "text": [
            "Epoch 1, Batch 3/815, Loss: 4.210981369018555\n"
          ]
        },
        {
          "output_type": "stream",
          "name": "stderr",
          "text": [
            "Epoch 1:   0%|          | 4/815 [00:02<06:33,  2.06it/s, loss=3.98]"
          ]
        },
        {
          "output_type": "stream",
          "name": "stdout",
          "text": [
            "Epoch 1, Batch 4/815, Loss: 3.975127935409546\n"
          ]
        },
        {
          "output_type": "stream",
          "name": "stderr",
          "text": [
            "Epoch 1:   1%|          | 5/815 [00:02<07:01,  1.92it/s, loss=4.13]"
          ]
        },
        {
          "output_type": "stream",
          "name": "stdout",
          "text": [
            "Epoch 1, Batch 5/815, Loss: 4.13063907623291\n"
          ]
        },
        {
          "output_type": "stream",
          "name": "stderr",
          "text": [
            "Epoch 1: 100%|██████████| 815/815 [06:25<00:00,  2.12it/s, loss=0.661]\n"
          ]
        },
        {
          "output_type": "stream",
          "name": "stdout",
          "text": [
            "Validation Loss after epoch 1: 17.537422620333157\n",
            "ROUGE Scores after epoch 1: {'rouge-1': {'r': 0.17179139416918365, 'p': 0.30086677335125755, 'f': 0.21065908305824557}, 'rouge-2': {'r': 0.06581313999289705, 'p': 0.11648490161644828, 'f': 0.08108312809941969}, 'rouge-l': {'r': 0.1590809752104741, 'p': 0.280249304173217, 'f': 0.1954848770321756}}\n"
          ]
        },
        {
          "output_type": "stream",
          "name": "stderr",
          "text": [
            "Epoch 2:   0%|          | 1/815 [00:00<08:33,  1.58it/s, loss=0.802]"
          ]
        },
        {
          "output_type": "stream",
          "name": "stdout",
          "text": [
            "Epoch 2, Batch 1/815, Loss: 0.8021983504295349\n"
          ]
        },
        {
          "output_type": "stream",
          "name": "stderr",
          "text": [
            "Epoch 2:   0%|          | 2/815 [00:01<07:09,  1.89it/s, loss=0.726]"
          ]
        },
        {
          "output_type": "stream",
          "name": "stdout",
          "text": [
            "Epoch 2, Batch 2/815, Loss: 0.7262276411056519\n"
          ]
        },
        {
          "output_type": "stream",
          "name": "stderr",
          "text": [
            "Epoch 2:   0%|          | 3/815 [00:01<06:37,  2.04it/s, loss=0.657]"
          ]
        },
        {
          "output_type": "stream",
          "name": "stdout",
          "text": [
            "Epoch 2, Batch 3/815, Loss: 0.6568102240562439\n"
          ]
        },
        {
          "output_type": "stream",
          "name": "stderr",
          "text": [
            "Epoch 2:   0%|          | 4/815 [00:01<06:23,  2.11it/s, loss=0.745]"
          ]
        },
        {
          "output_type": "stream",
          "name": "stdout",
          "text": [
            "Epoch 2, Batch 4/815, Loss: 0.7445838451385498\n"
          ]
        },
        {
          "output_type": "stream",
          "name": "stderr",
          "text": [
            "Epoch 2:   1%|          | 5/815 [00:02<06:51,  1.97it/s, loss=0.782]"
          ]
        },
        {
          "output_type": "stream",
          "name": "stdout",
          "text": [
            "Epoch 2, Batch 5/815, Loss: 0.7824453115463257\n"
          ]
        },
        {
          "output_type": "stream",
          "name": "stderr",
          "text": [
            "Epoch 2: 100%|██████████| 815/815 [06:27<00:00,  2.10it/s, loss=0.694]\n"
          ]
        },
        {
          "output_type": "stream",
          "name": "stdout",
          "text": [
            "Validation Loss after epoch 2: 17.993072887043375\n",
            "ROUGE Scores after epoch 2: {'rouge-1': {'r': 0.22266700029592384, 'p': 0.32030894123112363, 'f': 0.2542643538124314}, 'rouge-2': {'r': 0.08908980537148559, 'p': 0.12711926303053975, 'f': 0.10128797855525565}, 'rouge-l': {'r': 0.2023932231719818, 'p': 0.2917172984222199, 'f': 0.2311727253857785}}\n"
          ]
        },
        {
          "output_type": "stream",
          "name": "stderr",
          "text": [
            "Epoch 3:   0%|          | 1/815 [00:00<08:08,  1.67it/s, loss=0.6]"
          ]
        },
        {
          "output_type": "stream",
          "name": "stdout",
          "text": [
            "Epoch 3, Batch 1/815, Loss: 0.5995303988456726\n"
          ]
        },
        {
          "output_type": "stream",
          "name": "stderr",
          "text": [
            "Epoch 3:   0%|          | 2/815 [00:01<07:03,  1.92it/s, loss=0.572]"
          ]
        },
        {
          "output_type": "stream",
          "name": "stdout",
          "text": [
            "Epoch 3, Batch 2/815, Loss: 0.5717471837997437\n"
          ]
        },
        {
          "output_type": "stream",
          "name": "stderr",
          "text": [
            "Epoch 3:   0%|          | 3/815 [00:01<06:38,  2.04it/s, loss=0.579]"
          ]
        },
        {
          "output_type": "stream",
          "name": "stdout",
          "text": [
            "Epoch 3, Batch 3/815, Loss: 0.5789873003959656\n"
          ]
        },
        {
          "output_type": "stream",
          "name": "stderr",
          "text": [
            "Epoch 3:   0%|          | 4/815 [00:01<06:27,  2.09it/s, loss=0.578]"
          ]
        },
        {
          "output_type": "stream",
          "name": "stdout",
          "text": [
            "Epoch 3, Batch 4/815, Loss: 0.577777087688446\n"
          ]
        },
        {
          "output_type": "stream",
          "name": "stderr",
          "text": [
            "Epoch 3:   1%|          | 5/815 [00:02<06:51,  1.97it/s, loss=0.594]"
          ]
        },
        {
          "output_type": "stream",
          "name": "stdout",
          "text": [
            "Epoch 3, Batch 5/815, Loss: 0.5936440825462341\n"
          ]
        },
        {
          "output_type": "stream",
          "name": "stderr",
          "text": [
            "Epoch 3: 100%|██████████| 815/815 [06:27<00:00,  2.10it/s, loss=0.521]\n"
          ]
        },
        {
          "output_type": "stream",
          "name": "stdout",
          "text": [
            "Validation Loss after epoch 3: 19.936778603019295\n",
            "ROUGE Scores after epoch 3: {'rouge-1': {'r': 0.22787072172397416, 'p': 0.3182819911764668, 'f': 0.25723241416017756}, 'rouge-2': {'r': 0.09013932277069144, 'p': 0.1263754922792823, 'f': 0.10188051942260648}, 'rouge-l': {'r': 0.20581856972741347, 'p': 0.28828522281390234, 'f': 0.23252880206488433}}\n"
          ]
        },
        {
          "output_type": "stream",
          "name": "stderr",
          "text": [
            "Epoch 4:   0%|          | 1/815 [00:00<07:50,  1.73it/s, loss=0.537]"
          ]
        },
        {
          "output_type": "stream",
          "name": "stdout",
          "text": [
            "Epoch 4, Batch 1/815, Loss: 0.5374796390533447\n"
          ]
        },
        {
          "output_type": "stream",
          "name": "stderr",
          "text": [
            "Epoch 4:   0%|          | 2/815 [00:01<07:00,  1.93it/s, loss=0.481]"
          ]
        },
        {
          "output_type": "stream",
          "name": "stdout",
          "text": [
            "Epoch 4, Batch 2/815, Loss: 0.4807140529155731\n"
          ]
        },
        {
          "output_type": "stream",
          "name": "stderr",
          "text": [
            "Epoch 4:   0%|          | 3/815 [00:01<06:37,  2.04it/s, loss=0.519]"
          ]
        },
        {
          "output_type": "stream",
          "name": "stdout",
          "text": [
            "Epoch 4, Batch 3/815, Loss: 0.5189404487609863\n"
          ]
        },
        {
          "output_type": "stream",
          "name": "stderr",
          "text": [
            "Epoch 4:   0%|          | 4/815 [00:01<06:30,  2.08it/s, loss=0.516]"
          ]
        },
        {
          "output_type": "stream",
          "name": "stdout",
          "text": [
            "Epoch 4, Batch 4/815, Loss: 0.5161601305007935\n"
          ]
        },
        {
          "output_type": "stream",
          "name": "stderr",
          "text": [
            "Epoch 4:   1%|          | 5/815 [00:02<06:59,  1.93it/s, loss=0.549]"
          ]
        },
        {
          "output_type": "stream",
          "name": "stdout",
          "text": [
            "Epoch 4, Batch 5/815, Loss: 0.5488280653953552\n"
          ]
        },
        {
          "output_type": "stream",
          "name": "stderr",
          "text": [
            "Epoch 4: 100%|██████████| 815/815 [06:28<00:00,  2.10it/s, loss=0.685]\n"
          ]
        },
        {
          "output_type": "stream",
          "name": "stdout",
          "text": [
            "Validation Loss after epoch 4: 21.461115428379603\n",
            "ROUGE Scores after epoch 4: {'rouge-1': {'r': 0.23346298238784027, 'p': 0.30005537837714186, 'f': 0.25450415459630377}, 'rouge-2': {'r': 0.09385913440716098, 'p': 0.11880124205653819, 'f': 0.10167206829430096}, 'rouge-l': {'r': 0.21213543577725627, 'p': 0.27314043315328534, 'f': 0.2313285455002506}}\n"
          ]
        },
        {
          "output_type": "stream",
          "name": "stderr",
          "text": [
            "Epoch 5:   0%|          | 1/815 [00:00<08:32,  1.59it/s, loss=0.491]"
          ]
        },
        {
          "output_type": "stream",
          "name": "stdout",
          "text": [
            "Epoch 5, Batch 1/815, Loss: 0.4913317859172821\n"
          ]
        },
        {
          "output_type": "stream",
          "name": "stderr",
          "text": [
            "Epoch 5:   0%|          | 2/815 [00:01<07:14,  1.87it/s, loss=0.455]"
          ]
        },
        {
          "output_type": "stream",
          "name": "stdout",
          "text": [
            "Epoch 5, Batch 2/815, Loss: 0.4545769691467285\n"
          ]
        },
        {
          "output_type": "stream",
          "name": "stderr",
          "text": [
            "Epoch 5:   0%|          | 3/815 [00:01<06:50,  1.98it/s, loss=0.446]"
          ]
        },
        {
          "output_type": "stream",
          "name": "stdout",
          "text": [
            "Epoch 5, Batch 3/815, Loss: 0.4462495446205139\n"
          ]
        },
        {
          "output_type": "stream",
          "name": "stderr",
          "text": [
            "Epoch 5:   0%|          | 4/815 [00:02<06:30,  2.08it/s, loss=0.47]"
          ]
        },
        {
          "output_type": "stream",
          "name": "stdout",
          "text": [
            "Epoch 5, Batch 4/815, Loss: 0.47018036246299744\n"
          ]
        },
        {
          "output_type": "stream",
          "name": "stderr",
          "text": [
            "Epoch 5:   1%|          | 5/815 [00:02<06:51,  1.97it/s, loss=0.411]"
          ]
        },
        {
          "output_type": "stream",
          "name": "stdout",
          "text": [
            "Epoch 5, Batch 5/815, Loss: 0.41062742471694946\n"
          ]
        },
        {
          "output_type": "stream",
          "name": "stderr",
          "text": [
            "Epoch 5: 100%|██████████| 815/815 [06:29<00:00,  2.09it/s, loss=0.5]\n"
          ]
        },
        {
          "output_type": "stream",
          "name": "stdout",
          "text": [
            "Validation Loss after epoch 5: 21.323707538646655\n",
            "ROUGE Scores after epoch 5: {'rouge-1': {'r': 0.2319064623213717, 'p': 0.3054297125297768, 'f': 0.2557843559676142}, 'rouge-2': {'r': 0.09278835619890535, 'p': 0.11797994237234266, 'f': 0.10103991347017548}, 'rouge-l': {'r': 0.2103309623349027, 'p': 0.27852189914690806, 'f': 0.23241876822717694}}\n"
          ]
        },
        {
          "output_type": "stream",
          "name": "stderr",
          "text": [
            "Epoch 6:   0%|          | 1/815 [00:00<08:21,  1.62it/s, loss=0.364]"
          ]
        },
        {
          "output_type": "stream",
          "name": "stdout",
          "text": [
            "Epoch 6, Batch 1/815, Loss: 0.36433035135269165\n"
          ]
        },
        {
          "output_type": "stream",
          "name": "stderr",
          "text": [
            "Epoch 6:   0%|          | 2/815 [00:01<07:02,  1.92it/s, loss=0.407]"
          ]
        },
        {
          "output_type": "stream",
          "name": "stdout",
          "text": [
            "Epoch 6, Batch 2/815, Loss: 0.4071299135684967\n"
          ]
        },
        {
          "output_type": "stream",
          "name": "stderr",
          "text": [
            "Epoch 6:   0%|          | 3/815 [00:01<06:42,  2.02it/s, loss=0.404]"
          ]
        },
        {
          "output_type": "stream",
          "name": "stdout",
          "text": [
            "Epoch 6, Batch 3/815, Loss: 0.4040504992008209\n"
          ]
        },
        {
          "output_type": "stream",
          "name": "stderr",
          "text": [
            "Epoch 6:   0%|          | 4/815 [00:01<06:25,  2.10it/s, loss=0.43]"
          ]
        },
        {
          "output_type": "stream",
          "name": "stdout",
          "text": [
            "Epoch 6, Batch 4/815, Loss: 0.42962542176246643\n"
          ]
        },
        {
          "output_type": "stream",
          "name": "stderr",
          "text": [
            "Epoch 6:   1%|          | 5/815 [00:02<06:50,  1.97it/s, loss=0.321]"
          ]
        },
        {
          "output_type": "stream",
          "name": "stdout",
          "text": [
            "Epoch 6, Batch 5/815, Loss: 0.3206733167171478\n"
          ]
        },
        {
          "output_type": "stream",
          "name": "stderr",
          "text": [
            "Epoch 6: 100%|██████████| 815/815 [06:29<00:00,  2.09it/s, loss=0.425]\n"
          ]
        },
        {
          "output_type": "stream",
          "name": "stdout",
          "text": [
            "Validation Loss after epoch 6: 22.791387054946398\n",
            "ROUGE Scores after epoch 6: {'rouge-1': {'r': 0.2466760532760366, 'p': 0.2992501802901141, 'f': 0.26228738764493403}, 'rouge-2': {'r': 0.09832112722515944, 'p': 0.11728713909021687, 'f': 0.1038019594106921}, 'rouge-l': {'r': 0.2221578693111089, 'p': 0.2699755851224, 'f': 0.2362458277495037}}\n"
          ]
        },
        {
          "output_type": "stream",
          "name": "stderr",
          "text": [
            "Epoch 7:   0%|          | 1/815 [00:00<08:40,  1.56it/s, loss=0.335]"
          ]
        },
        {
          "output_type": "stream",
          "name": "stdout",
          "text": [
            "Epoch 7, Batch 1/815, Loss: 0.33521103858947754\n"
          ]
        },
        {
          "output_type": "stream",
          "name": "stderr",
          "text": [
            "Epoch 7:   0%|          | 2/815 [00:01<07:15,  1.87it/s, loss=0.383]"
          ]
        },
        {
          "output_type": "stream",
          "name": "stdout",
          "text": [
            "Epoch 7, Batch 2/815, Loss: 0.383222758769989\n"
          ]
        },
        {
          "output_type": "stream",
          "name": "stderr",
          "text": [
            "Epoch 7:   0%|          | 3/815 [00:01<06:56,  1.95it/s, loss=0.329]"
          ]
        },
        {
          "output_type": "stream",
          "name": "stdout",
          "text": [
            "Epoch 7, Batch 3/815, Loss: 0.3291059136390686\n"
          ]
        },
        {
          "output_type": "stream",
          "name": "stderr",
          "text": [
            "Epoch 7:   0%|          | 4/815 [00:02<06:30,  2.08it/s, loss=0.311]"
          ]
        },
        {
          "output_type": "stream",
          "name": "stdout",
          "text": [
            "Epoch 7, Batch 4/815, Loss: 0.311496376991272\n"
          ]
        },
        {
          "output_type": "stream",
          "name": "stderr",
          "text": [
            "Epoch 7:   1%|          | 5/815 [00:02<06:59,  1.93it/s, loss=0.31]"
          ]
        },
        {
          "output_type": "stream",
          "name": "stdout",
          "text": [
            "Epoch 7, Batch 5/815, Loss: 0.3104637861251831\n"
          ]
        },
        {
          "output_type": "stream",
          "name": "stderr",
          "text": [
            "Epoch 7: 100%|██████████| 815/815 [06:29<00:00,  2.09it/s, loss=0.29]\n"
          ]
        },
        {
          "output_type": "stream",
          "name": "stdout",
          "text": [
            "Validation Loss after epoch 7: 25.436932658101178\n",
            "ROUGE Scores after epoch 7: {'rouge-1': {'r': 0.2254569427185239, 'p': 0.29049627906284664, 'f': 0.24629456964234353}, 'rouge-2': {'r': 0.0892652407887802, 'p': 0.11288333199678469, 'f': 0.09655910200996368}, 'rouge-l': {'r': 0.20420245439889578, 'p': 0.26280604965799403, 'f': 0.2228540397365957}}\n"
          ]
        },
        {
          "output_type": "stream",
          "name": "stderr",
          "text": [
            "Epoch 8:   0%|          | 1/815 [00:00<08:27,  1.60it/s, loss=0.254]"
          ]
        },
        {
          "output_type": "stream",
          "name": "stdout",
          "text": [
            "Epoch 8, Batch 1/815, Loss: 0.2537223994731903\n"
          ]
        },
        {
          "output_type": "stream",
          "name": "stderr",
          "text": [
            "Epoch 8:   0%|          | 2/815 [00:01<07:01,  1.93it/s, loss=0.337]"
          ]
        },
        {
          "output_type": "stream",
          "name": "stdout",
          "text": [
            "Epoch 8, Batch 2/815, Loss: 0.3373984396457672\n"
          ]
        },
        {
          "output_type": "stream",
          "name": "stderr",
          "text": [
            "Epoch 8:   0%|          | 3/815 [00:01<06:48,  1.99it/s, loss=0.256]"
          ]
        },
        {
          "output_type": "stream",
          "name": "stdout",
          "text": [
            "Epoch 8, Batch 3/815, Loss: 0.25628212094306946\n"
          ]
        },
        {
          "output_type": "stream",
          "name": "stderr",
          "text": [
            "Epoch 8:   0%|          | 4/815 [00:02<06:35,  2.05it/s, loss=0.291]"
          ]
        },
        {
          "output_type": "stream",
          "name": "stdout",
          "text": [
            "Epoch 8, Batch 4/815, Loss: 0.29107969999313354\n"
          ]
        },
        {
          "output_type": "stream",
          "name": "stderr",
          "text": [
            "Epoch 8:   1%|          | 5/815 [00:02<07:01,  1.92it/s, loss=0.264]"
          ]
        },
        {
          "output_type": "stream",
          "name": "stdout",
          "text": [
            "Epoch 8, Batch 5/815, Loss: 0.2640163004398346\n"
          ]
        },
        {
          "output_type": "stream",
          "name": "stderr",
          "text": [
            "Epoch 8: 100%|██████████| 815/815 [06:28<00:00,  2.10it/s, loss=0.366]\n"
          ]
        },
        {
          "output_type": "stream",
          "name": "stdout",
          "text": [
            "Validation Loss after epoch 8: 24.975626222379915\n",
            "ROUGE Scores after epoch 8: {'rouge-1': {'r': 0.228742076354417, 'p': 0.29888409703300883, 'f': 0.2521225887523141}, 'rouge-2': {'r': 0.08977828456038738, 'p': 0.11557503309843005, 'f': 0.09832923315005537}, 'rouge-l': {'r': 0.20586449857014114, 'p': 0.2690832206396662, 'f': 0.22686831479182518}}\n"
          ]
        }
      ],
      "source": [
        "model = T5ForConditionalGeneration.from_pretrained(args.model_name)\n",
        "\n",
        "# Prepare model and optimizer\n",
        "model, optimizer, train_dataloader = accelerator.prepare(\n",
        "    model,\n",
        "    (\n",
        "        Adafactor(\n",
        "            model.parameters(),\n",
        "            # lr=args.learning_rate,\n",
        "            scale_parameter=True,\n",
        "            relative_step=True,\n",
        "        )\n",
        "        if args.use_adafactor\n",
        "        else torch.optim.AdamW(model.parameters(), lr=args.learning_rate)\n",
        "    ),\n",
        "    train_dataloader,\n",
        ")\n",
        "\n",
        "# Set up training parameters\n",
        "device = accelerator.device\n",
        "\n",
        "# Tracking losses\n",
        "training_losses_per_batch = []\n",
        "validation_losses_per_epoch = []\n",
        "rouge_scores_per_epoch = []\n",
        "\n",
        "# Training loop with progress bar\n",
        "model.train()\n",
        "for epoch in range(args.epochs):\n",
        "    progress_bar = tqdm(train_dataloader, desc=f\"Epoch {epoch + 1}\")\n",
        "    epoch_loss = 0\n",
        "\n",
        "    for i, batch in enumerate(progress_bar):\n",
        "        input_ids = batch[\"input_ids\"].to(device)\n",
        "        attention_mask = batch[\"attention_mask\"].to(device)\n",
        "        labels = batch[\"labels\"].to(device)\n",
        "        labels[labels == tokenizer.pad_token_id] = -100  # Ignore padding tokens in loss calculation\n",
        "\n",
        "        assert torch.all(torch.isfinite(input_ids)), \"input_ids contains NaN or Inf\"\n",
        "        assert torch.all(torch.isfinite(attention_mask)), \"attention_mask contains NaN or Inf\"\n",
        "        assert torch.all(torch.isfinite(labels)), \"labels contain NaN or Inf\"\n",
        "\n",
        "        # Forward pass\n",
        "        outputs = model(input_ids=input_ids, attention_mask=attention_mask, labels=labels)\n",
        "        loss = outputs.loss\n",
        "        loss = loss / args.gradient_accumulation_steps  # Scale loss for gradient accumulation\n",
        "\n",
        "        # Backward pass\n",
        "        loss.backward()\n",
        "\n",
        "        # Update weights and reset gradients if gradient accumulation step is complete\n",
        "        if (i + 1) % args.gradient_accumulation_steps == 0:\n",
        "            # Optional: Enable gradient clipping to stabilize training\n",
        "            torch.nn.utils.clip_grad_norm_(model.parameters(), max_norm=1.0)\n",
        "            optimizer.step()  # Perform optimization step\n",
        "            optimizer.zero_grad()  # Reset gradients after update\n",
        "\n",
        "        # Track loss\n",
        "        epoch_loss += loss.item()\n",
        "        training_losses_per_batch.append(loss.item())\n",
        "        progress_bar.set_postfix({\"loss\": loss.item()})\n",
        "        if i < 5:\n",
        "            print(f\"Epoch {epoch+1}, Batch {i+1}/{len(train_dataloader)}, Loss: {loss.item()}\")\n",
        "\n",
        "    average_epoch_loss = epoch_loss / len(train_dataloader)\n",
        "\n",
        "    # Validation loop\n",
        "    if val_dataloader is not None:\n",
        "        model.eval()\n",
        "        val_loss = 0\n",
        "        references = []\n",
        "        hypotheses = []\n",
        "        with torch.no_grad():\n",
        "            for idx, batch in enumerate(val_dataloader):\n",
        "                input_ids = batch[\"input_ids\"].to(device)\n",
        "                attention_mask = batch[\"attention_mask\"].to(device)\n",
        "                labels = batch[\"labels\"].to(device)\n",
        "\n",
        "                outputs = model(\n",
        "                    input_ids=input_ids,\n",
        "                    attention_mask=attention_mask,\n",
        "                    labels=labels,\n",
        "                )\n",
        "                val_loss += outputs.loss.item()\n",
        "\n",
        "                generated_ids = model.generate(\n",
        "                    input_ids=input_ids,\n",
        "                    attention_mask=attention_mask,\n",
        "                    max_length=args.max_output_length,\n",
        "                    num_beams=5,             # Use beam search with more beams for better generation\n",
        "                    early_stopping=True,     # Stop when all beams have completed\n",
        "                    temperature=1.0,         # Control randomness in generation\n",
        "                    top_p=0.95,              # Use nucleus sampling with top-p\n",
        "                    top_k=50                 # Or top-k sampling to limit the vocabulary\n",
        "                )\n",
        "\n",
        "                decoded_labels = tokenizer.batch_decode(labels, skip_special_tokens=True)\n",
        "                decoded_preds = tokenizer.batch_decode(generated_ids, skip_special_tokens=True)\n",
        "\n",
        "                references.extend(decoded_labels)\n",
        "                hypotheses.extend(decoded_preds)\n",
        "\n",
        "        val_loss /= len(val_dataloader)\n",
        "        validation_losses_per_epoch.append(val_loss)\n",
        "        print(f\"Validation Loss after epoch {epoch + 1}: {val_loss}\")\n",
        "        rouge_scores = get_rouge(hypotheses, references)\n",
        "        rouge_scores_per_epoch.append(rouge_scores)\n",
        "        print(f\"ROUGE Scores after epoch {epoch + 1}: {rouge_scores}\")\n",
        "        model.train()\n",
        "\n",
        "    # Save model and tokenizer\n",
        "    state_dict = model.state_dict()\n",
        "    for name, tensor in state_dict.items():\n",
        "        if not tensor.is_contiguous():\n",
        "            state_dict[name] = tensor.contiguous()\n",
        "    torch.save(state_dict, f\"{file_path_prefix}/{args.model_save_path}/fine_tuned_mt5_v3_epoch_{epoch + 1}.pth\")\n",
        "    tokenizer.save_pretrained(f\"{file_path_prefix}/{args.model_save_path}/fine_tuned_mt5_v3_epoch_{epoch + 1}\")"
      ]
    },
    {
      "cell_type": "markdown",
      "metadata": {
        "id": "RJaG1cj_-Z4G"
      },
      "source": [
        "## Plotting"
      ]
    },
    {
      "cell_type": "code",
      "execution_count": null,
      "metadata": {
        "colab": {
          "base_uri": "https://localhost:8080/",
          "height": 564
        },
        "id": "fuFjWQ_e5kwc",
        "outputId": "b231eab4-70c6-432f-8fd6-25e00ea152ca"
      },
      "outputs": [
        {
          "output_type": "display_data",
          "data": {
            "text/plain": [
              "<Figure size 1000x600 with 1 Axes>"
            ],
            "image/png": "[encoded data removed]"
          },
          "metadata": {}
        }
      ],
      "source": [
        "# Training Loss per Batch\n",
        "plt.figure(figsize=(10, 6))\n",
        "plt.plot(range(1, len(training_losses_per_batch) + 1), training_losses_per_batch, label=\"Training Loss\", color='b')\n",
        "plt.xlabel(\"Batches\")\n",
        "plt.ylabel(\"Training Loss\")\n",
        "plt.title(\"Training Loss per Batch\")\n",
        "plt.legend()\n",
        "plt.savefig(f\"{file_path_prefix}/results/training_loss_per_batch_v3.png\")\n",
        "plt.show()"
      ]
    },
    {
      "cell_type": "code",
      "execution_count": null,
      "metadata": {
        "colab": {
          "base_uri": "https://localhost:8080/",
          "height": 564
        },
        "id": "kbxHdyw95qcO",
        "outputId": "e546aa9f-8e14-45b7-a127-1aa94877923b"
      },
      "outputs": [
        {
          "output_type": "display_data",
          "data": {
            "text/plain": [
              "<Figure size 1000x600 with 1 Axes>"
            ],
            "image/png": "[encoded data removed]"
          },
          "metadata": {}
        }
      ],
      "source": [
        "# Validation Loss per Epoch\n",
        "plt.figure(figsize=(10, 6))\n",
        "epochs = range(1, len(validation_losses_per_epoch) + 1)\n",
        "plt.plot(epochs, validation_losses_per_epoch, label=\"Validation Loss\", color='r')\n",
        "plt.scatter(epochs, validation_losses_per_epoch, color='r', s=15)  # Show data points\n",
        "\n",
        "# Annotate each point with its actual value\n",
        "for x, y in zip(epochs, validation_losses_per_epoch):\n",
        "    plt.text(x, y+0.02, f'{y:.3f}', fontsize=9, ha='center', va='bottom')\n",
        "\n",
        "plt.xlabel(\"Epochs\")\n",
        "plt.ylabel(\"Validation Loss\")\n",
        "plt.title(\"Validation Loss per Epoch\")\n",
        "plt.legend()\n",
        "plt.savefig(f\"{file_path_prefix}/results/validation_loss_per_epoch_v3.png\")\n",
        "plt.show()"
      ]
    },
    {
      "cell_type": "code",
      "execution_count": null,
      "metadata": {
        "colab": {
          "base_uri": "https://localhost:8080/",
          "height": 564
        },
        "id": "sF87oTjz5ypS",
        "outputId": "526eb338-e4e0-4c9e-f358-a04d11b8b7f7"
      },
      "outputs": [
        {
          "output_type": "display_data",
          "data": {
            "text/plain": [
              "<Figure size 1000x600 with 1 Axes>"
            ],
            "image/png": "[encoded data removed]"
          },
          "metadata": {}
        }
      ],
      "source": [
        "# ROUGE Scores per Epoch\n",
        "rouge_1_f1 = [score['rouge-1']['f'] for score in rouge_scores_per_epoch]\n",
        "rouge_2_f1 = [score['rouge-2']['f'] for score in rouge_scores_per_epoch]\n",
        "rouge_l_f1 = [score['rouge-l']['f'] for score in rouge_scores_per_epoch]\n",
        "\n",
        "epochs = range(1, len(rouge_1_f1) + 1)\n",
        "\n",
        "plt.figure(figsize=(10, 6))\n",
        "plt.plot(epochs, rouge_1_f1, label=\"ROUGE-1 F1\", color='g')\n",
        "plt.scatter(epochs, rouge_1_f1, color='g', s=15)  # Show data points for ROUGE-1\n",
        "for x, y in zip(epochs, rouge_1_f1):\n",
        "    plt.text(x, y+0.003, f'{y:.3f}', fontsize=9, ha='center', va='bottom')\n",
        "\n",
        "plt.plot(epochs, rouge_2_f1, label=\"ROUGE-2 F1\", color='c')\n",
        "plt.scatter(epochs, rouge_2_f1, color='c', s=15)  # Show data points for ROUGE-2\n",
        "for x, y in zip(epochs, rouge_2_f1):\n",
        "    plt.text(x, y+0.003, f'{y:.3f}', fontsize=9, ha='center', va='bottom')\n",
        "\n",
        "plt.plot(epochs, rouge_l_f1, label=\"ROUGE-L F1\", color='m')\n",
        "plt.scatter(epochs, rouge_l_f1, color='m', s=15)  # Show data points for ROUGE-L\n",
        "for x, y in zip(epochs, rouge_l_f1):\n",
        "    plt.text(x, y+0.003, f'{y:.3f}', fontsize=9, ha='center', va='bottom')\n",
        "\n",
        "plt.xlabel(\"Epochs\")\n",
        "plt.ylabel(\"ROUGE Score (F1)\")\n",
        "plt.title(\"ROUGE Scores per Epoch\")\n",
        "plt.legend()\n",
        "plt.savefig(f\"{file_path_prefix}/results/rouge_scores_per_epoch_v3.png\")\n",
        "plt.show()"
      ]
    },
    {
      "cell_type": "markdown",
      "metadata": {
        "id": "MqgAVz33-hCH"
      },
      "source": [
        "## Evaluation"
      ]
    },
    {
      "cell_type": "code",
      "execution_count": null,
      "metadata": {
        "colab": {
          "base_uri": "https://localhost:8080/"
        },
        "id": "ypo8pWm87EpY",
        "outputId": "743ae329-17b2-44fd-eba0-842ab4f845b1"
      },
      "outputs": [
        {
          "output_type": "stream",
          "name": "stdout",
          "text": [
            "google/mt5-small\n"
          ]
        }
      ],
      "source": [
        "from argparse import Namespace\n",
        "\n",
        "args = {\n",
        "    \"model_name\": \"google/mt5-small\",\n",
        "    \"eval_dataset_path\": f\"{file_path_prefix}/data/public.jsonl\",\n",
        "    \"submission_path\": f\"{file_path_prefix}/data/submission_v3_epoch_6.jsonl\",\n",
        "    \"model_path\": f\"{file_path_prefix}/models/fine_tuned_mt5_v3_epoch_6.pth\",\n",
        "    \"tokenizer_path\": f\"{file_path_prefix}/models/fine_tuned_mt5_v3_epoch_6\",\n",
        "    \"batch_size\": 8,\n",
        "    \"max_input_length\": 512,\n",
        "    \"max_output_length\": 100,\n",
        "    \"use_adafactor\": True\n",
        "}\n",
        "\n",
        "args = Namespace(**args)\n",
        "\n",
        "# Now you can access attributes using dot notation\n",
        "print(args.model_name)"
      ]
    },
    {
      "cell_type": "code",
      "execution_count": null,
      "metadata": {
        "colab": {
          "base_uri": "https://localhost:8080/"
        },
        "id": "WYqH6NfX-gHQ",
        "outputId": "1b3e8c4f-3280-4a0d-e45f-13b0a41a8b5f"
      },
      "outputs": [
        {
          "output_type": "stream",
          "name": "stderr",
          "text": [
            "You are using a model of type mt5 to instantiate a model of type t5. This is not supported for all configurations of models and can yield errors.\n",
            "<ipython-input-31-1bf7a5bf40b8>:9: FutureWarning: You are using `torch.load` with `weights_only=False` (the current default value), which uses the default pickle module implicitly. It is possible to construct malicious pickle data which will execute arbitrary code during unpickling (See https://github.com/pytorch/pytorch/blob/main/SECURITY.md#untrusted-models for more details). In a future release, the default value for `weights_only` will be flipped to `True`. This limits the functions that could be executed during unpickling. Arbitrary objects will no longer be allowed to be loaded via this mode unless they are explicitly allowlisted by the user via `torch.serialization.add_safe_globals`. We recommend you start setting `weights_only=True` for any use case where you don't have full control of the loaded file. Please open an issue on GitHub for any issues related to this experimental feature.\n",
            "  state_dict = torch.load(args.model_path, map_location=device)\n"
          ]
        },
        {
          "output_type": "execute_result",
          "data": {
            "text/plain": [
              "<All keys matched successfully>"
            ]
          },
          "metadata": {},
          "execution_count": 31
        }
      ],
      "source": [
        "from transformers import T5ForConditionalGeneration, T5Tokenizer\n",
        "\n",
        "# Initialize Accelerator\n",
        "accelerator = Accelerator()\n",
        "\n",
        "# Load pre-trained multilingual T5 model and tokenizer\n",
        "tokenizer = T5Tokenizer.from_pretrained(args.tokenizer_path)\n",
        "model = T5ForConditionalGeneration.from_pretrained(args.model_name)\n",
        "state_dict = torch.load(args.model_path, map_location=device)\n",
        "model.load_state_dict(state_dict)"
      ]
    },
    {
      "cell_type": "code",
      "execution_count": null,
      "metadata": {
        "id": "ZgYrcymUH0k4"
      },
      "outputs": [],
      "source": [
        "# Prepare dataset\n",
        "# Define dataset class\n",
        "class NewsSummaryDatasetForEval(Dataset):\n",
        "    def __init__(self, filepath, tokenizer, max_input_length=256, max_output_length=64):\n",
        "        self.data = []\n",
        "        with open(filepath, \"r\", encoding=\"utf-8\") as f:\n",
        "            for idx, line in enumerate(f):\n",
        "                self.data.append(json.loads(line))\n",
        "        self.tokenizer = tokenizer\n",
        "        self.max_input_length = max_input_length\n",
        "        self.max_output_length = max_output_length\n",
        "\n",
        "    def __len__(self):\n",
        "        return len(self.data)\n",
        "\n",
        "    def __getitem__(self, idx):\n",
        "        item = self.data[idx]\n",
        "        id = item[\"id\"]\n",
        "        maintext = item[\"maintext\"]\n",
        "        title = item[\"title\"]\n",
        "        inputs = self.tokenizer(\n",
        "            maintext,\n",
        "            max_length=self.max_input_length,\n",
        "            truncation=True,\n",
        "            padding=\"max_length\",\n",
        "            return_tensors=\"pt\",\n",
        "        )\n",
        "        labels = self.tokenizer(\n",
        "            title,\n",
        "            max_length=self.max_output_length,\n",
        "            truncation=True,\n",
        "            padding=\"max_length\",\n",
        "            return_tensors=\"pt\",\n",
        "        )\n",
        "        return {\n",
        "            \"input_ids\": inputs[\"input_ids\"].squeeze(),\n",
        "            \"attention_mask\": inputs[\"attention_mask\"].squeeze(),\n",
        "            \"labels\": labels[\"input_ids\"].squeeze(),\n",
        "            \"id\": id\n",
        "        }\n",
        "\n",
        "eval_dataset = NewsSummaryDataset(\n",
        "    filepath=args.eval_dataset_path,\n",
        "    tokenizer=tokenizer,\n",
        "    max_input_length=args.max_input_length,\n",
        "    max_output_length=args.max_output_length,\n",
        ")\n",
        "\n",
        "eval_dataloader = DataLoader(\n",
        "    eval_dataset, batch_size=args.batch_size, shuffle=False\n",
        ")"
      ]
    },
    {
      "cell_type": "code",
      "execution_count": 35,
      "metadata": {
        "colab": {
          "base_uri": "https://localhost:8080/"
        },
        "id": "B4LnpVgIFVyL",
        "outputId": "26920362-2a35-486f-f1f2-c653692713ad"
      },
      "outputs": [
        {
          "output_type": "stream",
          "name": "stderr",
          "text": [
            "Evaluating: 100%|██████████| 687/687 [09:01<00:00,  1.27it/s]"
          ]
        },
        {
          "output_type": "stream",
          "name": "stdout",
          "text": [
            "Submission file saved to: /content/drive/MyDrive/ADL/hw2/data/submission_v3_epoch_6.jsonl\n"
          ]
        },
        {
          "output_type": "stream",
          "name": "stderr",
          "text": [
            "\n"
          ]
        }
      ],
      "source": [
        "import json\n",
        "from tqdm import tqdm\n",
        "\n",
        "# Evaluation loop on the evaluation dataset\n",
        "# Prepare model and optimizer\n",
        "model, eval_dataloader = accelerator.prepare(\n",
        "    model,\n",
        "    eval_dataloader,\n",
        ")\n",
        "device = accelerator.device\n",
        "model.eval()\n",
        "model.to(device)\n",
        "eval_loss = 0\n",
        "results = []\n",
        "\n",
        "# Add progress bar for evaluation\n",
        "with torch.no_grad():\n",
        "    progress_bar = tqdm(eval_dataloader, desc=\"Evaluating\")\n",
        "    for batch in progress_bar:\n",
        "        input_ids = batch[\"input_ids\"].to(device)\n",
        "        attention_mask = batch[\"attention_mask\"].to(device)\n",
        "        ids = batch[\"id\"]  # Assuming 'id' is included in your dataset batches for identification\n",
        "\n",
        "        # Generate predictions\n",
        "        generated_ids = model.generate(\n",
        "            input_ids=input_ids,\n",
        "            attention_mask=attention_mask,\n",
        "            max_length=args.max_output_length,\n",
        "            num_beams=5,\n",
        "            early_stopping=True,\n",
        "            temperature=1.0,\n",
        "            top_p=0.95,\n",
        "            top_k=50\n",
        "        )\n",
        "\n",
        "        # Decode predictions\n",
        "        decoded_preds = tokenizer.batch_decode(generated_ids, skip_special_tokens=True)\n",
        "\n",
        "        # Format each prediction and add it to results\n",
        "        for i, title in enumerate(decoded_preds):\n",
        "            result = {\n",
        "                \"title\": title,\n",
        "                \"id\": ids[i]\n",
        "            }\n",
        "            results.append(result)\n",
        "\n",
        "# Write results to the submission file in the required format\n",
        "with open(args.submission_path, \"w\", encoding=\"utf-8\") as f:\n",
        "    for result in results:\n",
        "        json.dump(result, f, ensure_ascii=False)\n",
        "        f.write(\"\\n\")\n",
        "\n",
        "print(f\"Submission file saved to: {args.submission_path}\")"
      ]
    },
    {
      "cell_type": "code",
      "execution_count": 36,
      "metadata": {
        "id": "j0q-DgHQHlIu",
        "colab": {
          "base_uri": "https://localhost:8080/"
        },
        "outputId": "736aea64-d283-4e08-efb1-14a03f4638a5"
      },
      "outputs": [
        {
          "output_type": "stream",
          "name": "stdout",
          "text": [
            "2024-10-22 07:14:21.851339: E external/local_xla/xla/stream_executor/cuda/cuda_fft.cc:485] Unable to register cuFFT factory: Attempting to register factory for plugin cuFFT when one has already been registered\n",
            "2024-10-22 07:14:21.873950: E external/local_xla/xla/stream_executor/cuda/cuda_dnn.cc:8454] Unable to register cuDNN factory: Attempting to register factory for plugin cuDNN when one has already been registered\n",
            "2024-10-22 07:14:21.880538: E external/local_xla/xla/stream_executor/cuda/cuda_blas.cc:1452] Unable to register cuBLAS factory: Attempting to register factory for plugin cuBLAS when one has already been registered\n",
            "2024-10-22 07:14:23.016918: W tensorflow/compiler/tf2tensorrt/utils/py_utils.cc:38] TF-TRT Warning: Could not find TensorRT\n",
            "/usr/local/lib/python3.10/dist-packages/ckiptagger/model_ws.py:106: UserWarning: `tf.nn.rnn_cell.LSTMCell` is deprecated and will be removed in a future version. This class is equivalent as `tf.keras.layers.LSTMCell`, and will be replaced by that in Tensorflow 2.0.\n",
            "  cell = tf.compat.v1.nn.rnn_cell.LSTMCell(hidden_d, name=name)\n",
            "2024-10-22 07:14:24.973342: W tensorflow/core/common_runtime/gpu/gpu_bfc_allocator.cc:47] Overriding orig_value setting because the TF_FORCE_GPU_ALLOW_GROWTH environment variable is set. Original config value was 0.\n",
            "{\n",
            "  \"rouge-1\": {\n",
            "    \"r\": 0.21695558521737526,\n",
            "    \"p\": 0.2697958912578689,\n",
            "    \"f\": 0.23370420633678365\n",
            "  },\n",
            "  \"rouge-2\": {\n",
            "    \"r\": 0.08108935130102102,\n",
            "    \"p\": 0.09992770874163713,\n",
            "    \"f\": 0.08688666877880573\n",
            "  },\n",
            "  \"rouge-l\": {\n",
            "    \"r\": 0.19640853665672536,\n",
            "    \"p\": 0.24485001258502623,\n",
            "    \"f\": 0.21169313391005237\n",
            "  }\n",
            "}\n"
          ]
        }
      ],
      "source": [
        "!python {file_path_prefix}/evaluation/eval.py -r {file_path_prefix}/data/public.jsonl -s {args.submission_path}"
      ]
    },
    {
      "cell_type": "code",
      "execution_count": null,
      "metadata": {
        "id": "1U_0rfgJOSbZ"
      },
      "outputs": [],
      "source": [
        "args = {\n",
        "    \"model_name\": \"google/mt5-small\",\n",
        "    \"eval_dataset_path\": f\"{file_path_prefix}/data/public.jsonl\",\n",
        "    \"submission_path\": f\"{file_path_prefix}/data/submission_v3_epoch_5.jsonl\",\n",
        "    \"model_path\": f\"{file_path_prefix}/models/fine_tuned_mt5_v3_epoch_5.pth\",\n",
        "    \"tokenizer_path\": f\"{file_path_prefix}/models/fine_tuned_mt5_v3_epoch_5\",\n",
        "    \"batch_size\": 8,\n",
        "    \"max_input_length\": 512,\n",
        "    \"max_output_length\": 100,\n",
        "    \"use_adafactor\": True\n",
        "}\n",
        "\n",
        "args = Namespace(**args)"
      ]
    },
    {
      "cell_type": "code",
      "source": [
        "# Evaluation loop on the evaluation dataset\n",
        "import json\n",
        "from tqdm import tqdm\n",
        "from transformers import T5ForConditionalGeneration, T5Tokenizer\n",
        "\n",
        "# Initialize Accelerator\n",
        "accelerator = Accelerator()\n",
        "\n",
        "# Prepare model and optimizer\n",
        "# Load pre-trained multilingual T5 model and tokenizer\n",
        "tokenizer = T5Tokenizer.from_pretrained(args.tokenizer_path)\n",
        "model = T5ForConditionalGeneration.from_pretrained(args.model_name)\n",
        "\n",
        "eval_dataset = NewsSummaryDataset(\n",
        "    filepath=args.eval_dataset_path,\n",
        "    tokenizer=tokenizer,\n",
        "    max_input_length=args.max_input_length,\n",
        "    max_output_length=args.max_output_length,\n",
        ")\n",
        "\n",
        "eval_dataloader = DataLoader(\n",
        "    eval_dataset, batch_size=args.batch_size, shuffle=False\n",
        ")\n",
        "\n",
        "model, eval_dataloader = accelerator.prepare(\n",
        "    model,\n",
        "    eval_dataloader,\n",
        ")\n",
        "\n",
        "device = accelerator.device\n",
        "state_dict = torch.load(args.model_path, map_location=device)\n",
        "model.load_state_dict(state_dict)\n",
        "\n",
        "model.eval()\n",
        "model.to(device)\n",
        "eval_loss = 0\n",
        "results = []\n",
        "\n",
        "# Add progress bar for evaluation\n",
        "with torch.no_grad():\n",
        "    progress_bar = tqdm(eval_dataloader, desc=\"Evaluating\")\n",
        "    for batch in progress_bar:\n",
        "        input_ids = batch[\"input_ids\"].to(device)\n",
        "        attention_mask = batch[\"attention_mask\"].to(device)\n",
        "        ids = batch[\"id\"]  # Assuming 'id' is included in your dataset batches for identification\n",
        "\n",
        "        # Generate predictions\n",
        "        generated_ids = model.generate(\n",
        "            input_ids=input_ids,\n",
        "            attention_mask=attention_mask,\n",
        "            max_length=args.max_output_length,\n",
        "            num_beams=5,\n",
        "            early_stopping=True,\n",
        "            temperature=1.0,\n",
        "            top_p=0.95,\n",
        "            top_k=50\n",
        "        )\n",
        "\n",
        "        # Decode predictions\n",
        "        decoded_preds = tokenizer.batch_decode(generated_ids, skip_special_tokens=True)\n",
        "\n",
        "        # Format each prediction and add it to results\n",
        "        for i, title in enumerate(decoded_preds):\n",
        "            result = {\n",
        "                \"title\": title,\n",
        "                \"id\": ids[i]\n",
        "            }\n",
        "            results.append(result)\n",
        "\n",
        "# Write results to the submission file in the required format\n",
        "with open(args.submission_path, \"w\", encoding=\"utf-8\") as f:\n",
        "    for result in results:\n",
        "        json.dump(result, f, ensure_ascii=False)\n",
        "        f.write(\"\\n\")\n",
        "\n",
        "print(f\"Submission file saved to: {args.submission_path}\")"
      ],
      "metadata": {
        "colab": {
          "base_uri": "https://localhost:8080/"
        },
        "id": "UI-MOTd5zoIa",
        "outputId": "7f26b5f3-d672-4640-9405-f6ae96f0da57"
      },
      "execution_count": null,
      "outputs": [
        {
          "output_type": "stream",
          "name": "stderr",
          "text": [
            "You are using a model of type mt5 to instantiate a model of type t5. This is not supported for all configurations of models and can yield errors.\n",
            "<ipython-input-27-8e25de9c6d7a>:31: FutureWarning: You are using `torch.load` with `weights_only=False` (the current default value), which uses the default pickle module implicitly. It is possible to construct malicious pickle data which will execute arbitrary code during unpickling (See https://github.com/pytorch/pytorch/blob/main/SECURITY.md#untrusted-models for more details). In a future release, the default value for `weights_only` will be flipped to `True`. This limits the functions that could be executed during unpickling. Arbitrary objects will no longer be allowed to be loaded via this mode unless they are explicitly allowlisted by the user via `torch.serialization.add_safe_globals`. We recommend you start setting `weights_only=True` for any use case where you don't have full control of the loaded file. Please open an issue on GitHub for any issues related to this experimental feature.\n",
            "  state_dict = torch.load(args.model_path, map_location=device)\n",
            "Evaluating:   0%|          | 0/687 [00:00<?, ?it/s]/usr/local/lib/python3.10/dist-packages/transformers/generation/configuration_utils.py:572: UserWarning: `do_sample` is set to `False`. However, `top_p` is set to `0.95` -- this flag is only used in sample-based generation modes. You should set `do_sample=True` or unset `top_p`.\n",
            "  warnings.warn(\n",
            "Evaluating: 100%|██████████| 687/687 [10:07<00:00,  1.13it/s]"
          ]
        },
        {
          "output_type": "stream",
          "name": "stdout",
          "text": [
            "Submission file saved to: /content/drive/MyDrive/ADL/hw2/data/submission_v3_epoch_5.jsonl\n"
          ]
        },
        {
          "output_type": "stream",
          "name": "stderr",
          "text": [
            "\n"
          ]
        }
      ]
    },
    {
      "cell_type": "code",
      "source": [
        "!python {file_path_prefix}/evaluation/eval.py -r {file_path_prefix}/data/public.jsonl -s {args.submission_path}"
      ],
      "metadata": {
        "colab": {
          "base_uri": "https://localhost:8080/"
        },
        "id": "2ZJeTutjzsdi",
        "outputId": "1180600a-d34c-4859-c55f-5bb3a67d21e1"
      },
      "execution_count": null,
      "outputs": [
        {
          "output_type": "stream",
          "name": "stdout",
          "text": [
            "2024-10-22 06:53:54.035219: E external/local_xla/xla/stream_executor/cuda/cuda_fft.cc:485] Unable to register cuFFT factory: Attempting to register factory for plugin cuFFT when one has already been registered\n",
            "2024-10-22 06:53:54.058270: E external/local_xla/xla/stream_executor/cuda/cuda_dnn.cc:8454] Unable to register cuDNN factory: Attempting to register factory for plugin cuDNN when one has already been registered\n",
            "2024-10-22 06:53:54.064852: E external/local_xla/xla/stream_executor/cuda/cuda_blas.cc:1452] Unable to register cuBLAS factory: Attempting to register factory for plugin cuBLAS when one has already been registered\n",
            "2024-10-22 06:53:55.220229: W tensorflow/compiler/tf2tensorrt/utils/py_utils.cc:38] TF-TRT Warning: Could not find TensorRT\n",
            "/usr/local/lib/python3.10/dist-packages/ckiptagger/model_ws.py:106: UserWarning: `tf.nn.rnn_cell.LSTMCell` is deprecated and will be removed in a future version. This class is equivalent as `tf.keras.layers.LSTMCell`, and will be replaced by that in Tensorflow 2.0.\n",
            "  cell = tf.compat.v1.nn.rnn_cell.LSTMCell(hidden_d, name=name)\n",
            "2024-10-22 06:53:57.241771: W tensorflow/core/common_runtime/gpu/gpu_bfc_allocator.cc:47] Overriding orig_value setting because the TF_FORCE_GPU_ALLOW_GROWTH environment variable is set. Original config value was 0.\n",
            "{\n",
            "  \"rouge-1\": {\n",
            "    \"r\": 0.21100258156384125,\n",
            "    \"p\": 0.2766506462088875,\n",
            "    \"f\": 0.23227474811009072\n",
            "  },\n",
            "  \"rouge-2\": {\n",
            "    \"r\": 0.08012100974023882,\n",
            "    \"p\": 0.1023103042211307,\n",
            "    \"f\": 0.08718322567439778\n",
            "  },\n",
            "  \"rouge-l\": {\n",
            "    \"r\": 0.19114828097167505,\n",
            "    \"p\": 0.25134780769769843,\n",
            "    \"f\": 0.21057594236011684\n",
            "  }\n",
            "}\n"
          ]
        }
      ]
    },
    {
      "cell_type": "code",
      "source": [
        "args = {\n",
        "    \"model_name\": \"google/mt5-small\",\n",
        "    \"eval_dataset_path\": f\"{file_path_prefix}/data/public.jsonl\",\n",
        "    \"submission_path\": f\"{file_path_prefix}/data/submission_v3_epoch_7.jsonl\",\n",
        "    \"model_path\": f\"{file_path_prefix}/models/fine_tuned_mt5_v3_epoch_7.pth\",\n",
        "    \"tokenizer_path\": f\"{file_path_prefix}/models/fine_tuned_mt5_v3_epoch_7\",\n",
        "    \"batch_size\": 8,\n",
        "    \"max_input_length\": 512,\n",
        "    \"max_output_length\": 100,\n",
        "    \"use_adafactor\": True\n",
        "}\n",
        "\n",
        "args = Namespace(**args)"
      ],
      "metadata": {
        "id": "vTNkwozUANwd"
      },
      "execution_count": 37,
      "outputs": []
    },
    {
      "cell_type": "code",
      "source": [
        "# Evaluation loop on the evaluation dataset\n",
        "import json\n",
        "from tqdm import tqdm\n",
        "from transformers import T5ForConditionalGeneration, T5Tokenizer\n",
        "\n",
        "# Initialize Accelerator\n",
        "accelerator = Accelerator()\n",
        "\n",
        "# Prepare model and optimizer\n",
        "# Load pre-trained multilingual T5 model and tokenizer\n",
        "tokenizer = T5Tokenizer.from_pretrained(args.tokenizer_path)\n",
        "model = T5ForConditionalGeneration.from_pretrained(args.model_name)\n",
        "\n",
        "eval_dataset = NewsSummaryDataset(\n",
        "    filepath=args.eval_dataset_path,\n",
        "    tokenizer=tokenizer,\n",
        "    max_input_length=args.max_input_length,\n",
        "    max_output_length=args.max_output_length,\n",
        ")\n",
        "\n",
        "eval_dataloader = DataLoader(\n",
        "    eval_dataset, batch_size=args.batch_size, shuffle=False\n",
        ")\n",
        "\n",
        "model, eval_dataloader = accelerator.prepare(\n",
        "    model,\n",
        "    eval_dataloader,\n",
        ")\n",
        "\n",
        "device = accelerator.device\n",
        "state_dict = torch.load(args.model_path, map_location=device)\n",
        "model.load_state_dict(state_dict)\n",
        "\n",
        "model.eval()\n",
        "model.to(device)\n",
        "eval_loss = 0\n",
        "results = []\n",
        "\n",
        "# Add progress bar for evaluation\n",
        "with torch.no_grad():\n",
        "    progress_bar = tqdm(eval_dataloader, desc=\"Evaluating\")\n",
        "    for batch in progress_bar:\n",
        "        input_ids = batch[\"input_ids\"].to(device)\n",
        "        attention_mask = batch[\"attention_mask\"].to(device)\n",
        "        ids = batch[\"id\"]  # Assuming 'id' is included in your dataset batches for identification\n",
        "\n",
        "        # Generate predictions\n",
        "        generated_ids = model.generate(\n",
        "            input_ids=input_ids,\n",
        "            attention_mask=attention_mask,\n",
        "            max_length=args.max_output_length,\n",
        "            num_beams=5,\n",
        "            early_stopping=True,\n",
        "            temperature=1.0,\n",
        "            top_p=0.95,\n",
        "            top_k=50\n",
        "        )\n",
        "\n",
        "        # Decode predictions\n",
        "        decoded_preds = tokenizer.batch_decode(generated_ids, skip_special_tokens=True)\n",
        "\n",
        "        # Format each prediction and add it to results\n",
        "        for i, title in enumerate(decoded_preds):\n",
        "            result = {\n",
        "                \"title\": title,\n",
        "                \"id\": ids[i]\n",
        "            }\n",
        "            results.append(result)\n",
        "\n",
        "# Write results to the submission file in the required format\n",
        "with open(args.submission_path, \"w\", encoding=\"utf-8\") as f:\n",
        "    for result in results:\n",
        "        json.dump(result, f, ensure_ascii=False)\n",
        "        f.write(\"\\n\")\n",
        "\n",
        "print(f\"Submission file saved to: {args.submission_path}\")"
      ],
      "metadata": {
        "colab": {
          "base_uri": "https://localhost:8080/"
        },
        "id": "CrrNI2__VWw-",
        "outputId": "f74f4eac-50ba-47a3-f5ec-70e5ac8c6ed9"
      },
      "execution_count": 38,
      "outputs": [
        {
          "output_type": "stream",
          "name": "stderr",
          "text": [
            "You are using a model of type mt5 to instantiate a model of type t5. This is not supported for all configurations of models and can yield errors.\n",
            "<ipython-input-38-8e25de9c6d7a>:31: FutureWarning: You are using `torch.load` with `weights_only=False` (the current default value), which uses the default pickle module implicitly. It is possible to construct malicious pickle data which will execute arbitrary code during unpickling (See https://github.com/pytorch/pytorch/blob/main/SECURITY.md#untrusted-models for more details). In a future release, the default value for `weights_only` will be flipped to `True`. This limits the functions that could be executed during unpickling. Arbitrary objects will no longer be allowed to be loaded via this mode unless they are explicitly allowlisted by the user via `torch.serialization.add_safe_globals`. We recommend you start setting `weights_only=True` for any use case where you don't have full control of the loaded file. Please open an issue on GitHub for any issues related to this experimental feature.\n",
            "  state_dict = torch.load(args.model_path, map_location=device)\n",
            "Evaluating: 100%|██████████| 687/687 [08:57<00:00,  1.28it/s]"
          ]
        },
        {
          "output_type": "stream",
          "name": "stdout",
          "text": [
            "Submission file saved to: /content/drive/MyDrive/ADL/hw2/data/submission_v3_epoch_7.jsonl\n"
          ]
        },
        {
          "output_type": "stream",
          "name": "stderr",
          "text": [
            "\n"
          ]
        }
      ]
    },
    {
      "cell_type": "code",
      "source": [
        "!python {file_path_prefix}/evaluation/eval.py -r {file_path_prefix}/data/public.jsonl -s {args.submission_path}"
      ],
      "metadata": {
        "colab": {
          "base_uri": "https://localhost:8080/"
        },
        "id": "Jrswhw5zVZDj",
        "outputId": "9e995420-333b-40c4-a5eb-c6f60896d399"
      },
      "execution_count": 39,
      "outputs": [
        {
          "output_type": "stream",
          "name": "stdout",
          "text": [
            "2024-10-22 08:35:38.224737: E external/local_xla/xla/stream_executor/cuda/cuda_fft.cc:485] Unable to register cuFFT factory: Attempting to register factory for plugin cuFFT when one has already been registered\n",
            "2024-10-22 08:35:38.247116: E external/local_xla/xla/stream_executor/cuda/cuda_dnn.cc:8454] Unable to register cuDNN factory: Attempting to register factory for plugin cuDNN when one has already been registered\n",
            "2024-10-22 08:35:38.253739: E external/local_xla/xla/stream_executor/cuda/cuda_blas.cc:1452] Unable to register cuBLAS factory: Attempting to register factory for plugin cuBLAS when one has already been registered\n",
            "2024-10-22 08:35:39.435729: W tensorflow/compiler/tf2tensorrt/utils/py_utils.cc:38] TF-TRT Warning: Could not find TensorRT\n",
            "/usr/local/lib/python3.10/dist-packages/ckiptagger/model_ws.py:106: UserWarning: `tf.nn.rnn_cell.LSTMCell` is deprecated and will be removed in a future version. This class is equivalent as `tf.keras.layers.LSTMCell`, and will be replaced by that in Tensorflow 2.0.\n",
            "  cell = tf.compat.v1.nn.rnn_cell.LSTMCell(hidden_d, name=name)\n",
            "2024-10-22 08:35:41.453817: W tensorflow/core/common_runtime/gpu/gpu_bfc_allocator.cc:47] Overriding orig_value setting because the TF_FORCE_GPU_ALLOW_GROWTH environment variable is set. Original config value was 0.\n",
            "{\n",
            "  \"rouge-1\": {\n",
            "    \"r\": 0.19974627529218617,\n",
            "    \"p\": 0.256790730542271,\n",
            "    \"f\": 0.21823004643830046\n",
            "  },\n",
            "  \"rouge-2\": {\n",
            "    \"r\": 0.0742506434502856,\n",
            "    \"p\": 0.09390693090969997,\n",
            "    \"f\": 0.0804832666351825\n",
            "  },\n",
            "  \"rouge-l\": {\n",
            "    \"r\": 0.1802125655643544,\n",
            "    \"p\": 0.23165283902493095,\n",
            "    \"f\": 0.19673833383215872\n",
            "  }\n",
            "}\n"
          ]
        }
      ]
    },
    {
      "cell_type": "markdown",
      "source": [
        "## Try Different Generating Strategies"
      ],
      "metadata": {
        "id": "yv2YG4VuVeF_"
      }
    },
    {
      "cell_type": "code",
      "source": [
        "# temperature = 0\n",
        "args_alternate_1 = {\n",
        "    \"model_name\": \"google/mt5-small\",\n",
        "    \"eval_dataset_path\": f\"{file_path_prefix}/data/public.jsonl\",\n",
        "    \"submission_path\": f\"{file_path_prefix}/data/submission_v3_epoch_6_temp0.jsonl\",\n",
        "    \"model_path\": f\"{file_path_prefix}/models/fine_tuned_mt5_v3_epoch_6.pth\",\n",
        "    \"tokenizer_path\": f\"{file_path_prefix}/models/fine_tuned_mt5_v3_epoch_6\",\n",
        "    \"batch_size\": 8,\n",
        "    \"max_input_length\": 512,\n",
        "    \"max_output_length\": 100,\n",
        "    \"num_beams\": 5,\n",
        "    \"early_stopping\": True,\n",
        "    \"temperature\": 0,\n",
        "    \"top_p\": 0.95,\n",
        "    \"top_k\": 50\n",
        "}\n",
        "\n",
        "# greedy\n",
        "args_alternate_2 = {\n",
        "    \"model_name\": \"google/mt5-small\",\n",
        "    \"eval_dataset_path\": f\"{file_path_prefix}/data/public.jsonl\",\n",
        "    \"submission_path\": f\"{file_path_prefix}/data/submission_v3_epoch_6_greedy.jsonl\",\n",
        "    \"model_path\": f\"{file_path_prefix}/models/fine_tuned_mt5_v3_epoch_6.pth\",\n",
        "    \"tokenizer_path\": f\"{file_path_prefix}/models/fine_tuned_mt5_v3_epoch_6\",\n",
        "    \"batch_size\": 8,\n",
        "    \"max_input_length\": 512,\n",
        "    \"max_output_length\": 100,\n",
        "    \"early_stopping\": True,\n",
        "}\n",
        "\n",
        "\n",
        "\n",
        "args_alternate_1 = Namespace(**args_alternate_1)\n",
        "args_alternate_2 = Namespace(**args_alternate_2)"
      ],
      "metadata": {
        "id": "FtuSVYSlVbfV"
      },
      "execution_count": 41,
      "outputs": []
    },
    {
      "cell_type": "code",
      "source": [
        "# Evaluation loop on the evaluation dataset\n",
        "import json\n",
        "from tqdm import tqdm\n",
        "from transformers import T5ForConditionalGeneration, T5Tokenizer\n",
        "\n",
        "# Initialize Accelerator\n",
        "accelerator = Accelerator()\n",
        "\n",
        "# Prepare model and optimizer\n",
        "# Load pre-trained multilingual T5 model and tokenizer\n",
        "tokenizer = T5Tokenizer.from_pretrained(args.tokenizer_path)\n",
        "model = T5ForConditionalGeneration.from_pretrained(args.model_name)\n",
        "\n",
        "eval_dataset = NewsSummaryDataset(\n",
        "    filepath=args.eval_dataset_path,\n",
        "    tokenizer=tokenizer,\n",
        "    max_input_length=args.max_input_length,\n",
        "    max_output_length=args.max_output_length,\n",
        ")\n",
        "\n",
        "eval_dataloader = DataLoader(\n",
        "    eval_dataset, batch_size=args.batch_size, shuffle=False\n",
        ")\n",
        "\n",
        "model, eval_dataloader = accelerator.prepare(\n",
        "    model,\n",
        "    eval_dataloader,\n",
        ")\n",
        "\n",
        "device = accelerator.device\n",
        "state_dict = torch.load(args.model_path, map_location=device)\n",
        "model.load_state_dict(state_dict)\n",
        "\n",
        "model.eval()\n",
        "model.to(device)"
      ],
      "metadata": {
        "colab": {
          "base_uri": "https://localhost:8080/"
        },
        "id": "PwK-XdjBV3q8",
        "outputId": "ec50c95f-e69a-4eb7-d0e8-f50b3a68e00c"
      },
      "execution_count": 42,
      "outputs": [
        {
          "output_type": "stream",
          "name": "stderr",
          "text": [
            "You are using a model of type mt5 to instantiate a model of type t5. This is not supported for all configurations of models and can yield errors.\n",
            "<ipython-input-42-56ca80e8edfb>:31: FutureWarning: You are using `torch.load` with `weights_only=False` (the current default value), which uses the default pickle module implicitly. It is possible to construct malicious pickle data which will execute arbitrary code during unpickling (See https://github.com/pytorch/pytorch/blob/main/SECURITY.md#untrusted-models for more details). In a future release, the default value for `weights_only` will be flipped to `True`. This limits the functions that could be executed during unpickling. Arbitrary objects will no longer be allowed to be loaded via this mode unless they are explicitly allowlisted by the user via `torch.serialization.add_safe_globals`. We recommend you start setting `weights_only=True` for any use case where you don't have full control of the loaded file. Please open an issue on GitHub for any issues related to this experimental feature.\n",
            "  state_dict = torch.load(args.model_path, map_location=device)\n"
          ]
        },
        {
          "output_type": "execute_result",
          "data": {
            "text/plain": [
              "T5ForConditionalGeneration(\n",
              "  (shared): Embedding(250112, 512)\n",
              "  (encoder): T5Stack(\n",
              "    (embed_tokens): Embedding(250112, 512)\n",
              "    (block): ModuleList(\n",
              "      (0): T5Block(\n",
              "        (layer): ModuleList(\n",
              "          (0): T5LayerSelfAttention(\n",
              "            (SelfAttention): T5Attention(\n",
              "              (q): Linear(in_features=512, out_features=384, bias=False)\n",
              "              (k): Linear(in_features=512, out_features=384, bias=False)\n",
              "              (v): Linear(in_features=512, out_features=384, bias=False)\n",
              "              (o): Linear(in_features=384, out_features=512, bias=False)\n",
              "              (relative_attention_bias): Embedding(32, 6)\n",
              "            )\n",
              "            (layer_norm): T5LayerNorm()\n",
              "            (dropout): Dropout(p=0.1, inplace=False)\n",
              "          )\n",
              "          (1): T5LayerFF(\n",
              "            (DenseReluDense): T5DenseGatedActDense(\n",
              "              (wi_0): Linear(in_features=512, out_features=1024, bias=False)\n",
              "              (wi_1): Linear(in_features=512, out_features=1024, bias=False)\n",
              "              (wo): Linear(in_features=1024, out_features=512, bias=False)\n",
              "              (dropout): Dropout(p=0.1, inplace=False)\n",
              "              (act): NewGELUActivation()\n",
              "            )\n",
              "            (layer_norm): T5LayerNorm()\n",
              "            (dropout): Dropout(p=0.1, inplace=False)\n",
              "          )\n",
              "        )\n",
              "      )\n",
              "      (1-7): 7 x T5Block(\n",
              "        (layer): ModuleList(\n",
              "          (0): T5LayerSelfAttention(\n",
              "            (SelfAttention): T5Attention(\n",
              "              (q): Linear(in_features=512, out_features=384, bias=False)\n",
              "              (k): Linear(in_features=512, out_features=384, bias=False)\n",
              "              (v): Linear(in_features=512, out_features=384, bias=False)\n",
              "              (o): Linear(in_features=384, out_features=512, bias=False)\n",
              "            )\n",
              "            (layer_norm): T5LayerNorm()\n",
              "            (dropout): Dropout(p=0.1, inplace=False)\n",
              "          )\n",
              "          (1): T5LayerFF(\n",
              "            (DenseReluDense): T5DenseGatedActDense(\n",
              "              (wi_0): Linear(in_features=512, out_features=1024, bias=False)\n",
              "              (wi_1): Linear(in_features=512, out_features=1024, bias=False)\n",
              "              (wo): Linear(in_features=1024, out_features=512, bias=False)\n",
              "              (dropout): Dropout(p=0.1, inplace=False)\n",
              "              (act): NewGELUActivation()\n",
              "            )\n",
              "            (layer_norm): T5LayerNorm()\n",
              "            (dropout): Dropout(p=0.1, inplace=False)\n",
              "          )\n",
              "        )\n",
              "      )\n",
              "    )\n",
              "    (final_layer_norm): T5LayerNorm()\n",
              "    (dropout): Dropout(p=0.1, inplace=False)\n",
              "  )\n",
              "  (decoder): T5Stack(\n",
              "    (embed_tokens): Embedding(250112, 512)\n",
              "    (block): ModuleList(\n",
              "      (0): T5Block(\n",
              "        (layer): ModuleList(\n",
              "          (0): T5LayerSelfAttention(\n",
              "            (SelfAttention): T5Attention(\n",
              "              (q): Linear(in_features=512, out_features=384, bias=False)\n",
              "              (k): Linear(in_features=512, out_features=384, bias=False)\n",
              "              (v): Linear(in_features=512, out_features=384, bias=False)\n",
              "              (o): Linear(in_features=384, out_features=512, bias=False)\n",
              "              (relative_attention_bias): Embedding(32, 6)\n",
              "            )\n",
              "            (layer_norm): T5LayerNorm()\n",
              "            (dropout): Dropout(p=0.1, inplace=False)\n",
              "          )\n",
              "          (1): T5LayerCrossAttention(\n",
              "            (EncDecAttention): T5Attention(\n",
              "              (q): Linear(in_features=512, out_features=384, bias=False)\n",
              "              (k): Linear(in_features=512, out_features=384, bias=False)\n",
              "              (v): Linear(in_features=512, out_features=384, bias=False)\n",
              "              (o): Linear(in_features=384, out_features=512, bias=False)\n",
              "            )\n",
              "            (layer_norm): T5LayerNorm()\n",
              "            (dropout): Dropout(p=0.1, inplace=False)\n",
              "          )\n",
              "          (2): T5LayerFF(\n",
              "            (DenseReluDense): T5DenseGatedActDense(\n",
              "              (wi_0): Linear(in_features=512, out_features=1024, bias=False)\n",
              "              (wi_1): Linear(in_features=512, out_features=1024, bias=False)\n",
              "              (wo): Linear(in_features=1024, out_features=512, bias=False)\n",
              "              (dropout): Dropout(p=0.1, inplace=False)\n",
              "              (act): NewGELUActivation()\n",
              "            )\n",
              "            (layer_norm): T5LayerNorm()\n",
              "            (dropout): Dropout(p=0.1, inplace=False)\n",
              "          )\n",
              "        )\n",
              "      )\n",
              "      (1-7): 7 x T5Block(\n",
              "        (layer): ModuleList(\n",
              "          (0): T5LayerSelfAttention(\n",
              "            (SelfAttention): T5Attention(\n",
              "              (q): Linear(in_features=512, out_features=384, bias=False)\n",
              "              (k): Linear(in_features=512, out_features=384, bias=False)\n",
              "              (v): Linear(in_features=512, out_features=384, bias=False)\n",
              "              (o): Linear(in_features=384, out_features=512, bias=False)\n",
              "            )\n",
              "            (layer_norm): T5LayerNorm()\n",
              "            (dropout): Dropout(p=0.1, inplace=False)\n",
              "          )\n",
              "          (1): T5LayerCrossAttention(\n",
              "            (EncDecAttention): T5Attention(\n",
              "              (q): Linear(in_features=512, out_features=384, bias=False)\n",
              "              (k): Linear(in_features=512, out_features=384, bias=False)\n",
              "              (v): Linear(in_features=512, out_features=384, bias=False)\n",
              "              (o): Linear(in_features=384, out_features=512, bias=False)\n",
              "            )\n",
              "            (layer_norm): T5LayerNorm()\n",
              "            (dropout): Dropout(p=0.1, inplace=False)\n",
              "          )\n",
              "          (2): T5LayerFF(\n",
              "            (DenseReluDense): T5DenseGatedActDense(\n",
              "              (wi_0): Linear(in_features=512, out_features=1024, bias=False)\n",
              "              (wi_1): Linear(in_features=512, out_features=1024, bias=False)\n",
              "              (wo): Linear(in_features=1024, out_features=512, bias=False)\n",
              "              (dropout): Dropout(p=0.1, inplace=False)\n",
              "              (act): NewGELUActivation()\n",
              "            )\n",
              "            (layer_norm): T5LayerNorm()\n",
              "            (dropout): Dropout(p=0.1, inplace=False)\n",
              "          )\n",
              "        )\n",
              "      )\n",
              "    )\n",
              "    (final_layer_norm): T5LayerNorm()\n",
              "    (dropout): Dropout(p=0.1, inplace=False)\n",
              "  )\n",
              "  (lm_head): Linear(in_features=512, out_features=250112, bias=False)\n",
              ")"
            ]
          },
          "metadata": {},
          "execution_count": 42
        }
      ]
    },
    {
      "cell_type": "code",
      "source": [
        "eval_loss = 0\n",
        "results = []\n",
        "\n",
        "# Add progress bar for evaluation\n",
        "with torch.no_grad():\n",
        "    progress_bar = tqdm(eval_dataloader, desc=\"Evaluating\")\n",
        "    for batch in progress_bar:\n",
        "        input_ids = batch[\"input_ids\"].to(device)\n",
        "        attention_mask = batch[\"attention_mask\"].to(device)\n",
        "        ids = batch[\"id\"]  # Assuming 'id' is included in your dataset batches for identification\n",
        "\n",
        "        # Generate predictions\n",
        "        generated_ids = model.generate(\n",
        "            input_ids=input_ids,\n",
        "            attention_mask=attention_mask,\n",
        "            max_length=args_alternate_1.max_output_length,\n",
        "            num_beams=args_alternate_1.num_beams,\n",
        "            early_stopping=args_alternate_1.early_stopping,\n",
        "            temperature=args_alternate_1.temperature,\n",
        "            top_p=args_alternate_1.top_p,\n",
        "            top_k=args_alternate_1.top_k\n",
        "        )\n",
        "\n",
        "        # Decode predictions\n",
        "        decoded_preds = tokenizer.batch_decode(generated_ids, skip_special_tokens=True)\n",
        "\n",
        "        # Format each prediction and add it to results\n",
        "        for i, title in enumerate(decoded_preds):\n",
        "            result = {\n",
        "                \"title\": title,\n",
        "                \"id\": ids[i]\n",
        "            }\n",
        "            results.append(result)\n",
        "\n",
        "# Write results to the submission file in the required format\n",
        "with open(args_alternate_1.submission_path, \"w\", encoding=\"utf-8\") as f:\n",
        "    for result in results:\n",
        "        json.dump(result, f, ensure_ascii=False)\n",
        "        f.write(\"\\n\")\n",
        "\n",
        "print(f\"Submission file saved to: {args_alternate_1.submission_path}\")"
      ],
      "metadata": {
        "colab": {
          "base_uri": "https://localhost:8080/"
        },
        "id": "HQvLIfSmW3GO",
        "outputId": "b5ad66ed-aba3-4032-a966-0331e28f0c09"
      },
      "execution_count": 44,
      "outputs": [
        {
          "output_type": "stream",
          "name": "stderr",
          "text": [
            "\rEvaluating:   0%|          | 0/687 [00:00<?, ?it/s]/usr/local/lib/python3.10/dist-packages/transformers/generation/configuration_utils.py:567: UserWarning: `do_sample` is set to `False`. However, `temperature` is set to `0` -- this flag is only used in sample-based generation modes. You should set `do_sample=True` or unset `temperature`.\n",
            "  warnings.warn(\n",
            "/usr/local/lib/python3.10/dist-packages/transformers/generation/configuration_utils.py:572: UserWarning: `do_sample` is set to `False`. However, `top_p` is set to `0.95` -- this flag is only used in sample-based generation modes. You should set `do_sample=True` or unset `top_p`.\n",
            "  warnings.warn(\n",
            "Evaluating: 100%|██████████| 687/687 [08:53<00:00,  1.29it/s]"
          ]
        },
        {
          "output_type": "stream",
          "name": "stdout",
          "text": [
            "Submission file saved to: /content/drive/MyDrive/ADL/hw2/data/submission_v3_epoch_6.jsonl\n"
          ]
        },
        {
          "output_type": "stream",
          "name": "stderr",
          "text": [
            "\n"
          ]
        }
      ]
    },
    {
      "cell_type": "code",
      "source": [
        "!python {file_path_prefix}/evaluation/eval.py -r {file_path_prefix}/data/public.jsonl -s {args_alternate_1.submission_path}"
      ],
      "metadata": {
        "colab": {
          "base_uri": "https://localhost:8080/"
        },
        "id": "qz45gMP4X4eg",
        "outputId": "aa51a96b-292d-4037-a47f-cc465e387c41"
      },
      "execution_count": 45,
      "outputs": [
        {
          "output_type": "stream",
          "name": "stdout",
          "text": [
            "2024-10-22 08:48:23.611116: E external/local_xla/xla/stream_executor/cuda/cuda_fft.cc:485] Unable to register cuFFT factory: Attempting to register factory for plugin cuFFT when one has already been registered\n",
            "2024-10-22 08:48:23.632620: E external/local_xla/xla/stream_executor/cuda/cuda_dnn.cc:8454] Unable to register cuDNN factory: Attempting to register factory for plugin cuDNN when one has already been registered\n",
            "2024-10-22 08:48:23.639081: E external/local_xla/xla/stream_executor/cuda/cuda_blas.cc:1452] Unable to register cuBLAS factory: Attempting to register factory for plugin cuBLAS when one has already been registered\n",
            "2024-10-22 08:48:24.771595: W tensorflow/compiler/tf2tensorrt/utils/py_utils.cc:38] TF-TRT Warning: Could not find TensorRT\n",
            "/usr/local/lib/python3.10/dist-packages/ckiptagger/model_ws.py:106: UserWarning: `tf.nn.rnn_cell.LSTMCell` is deprecated and will be removed in a future version. This class is equivalent as `tf.keras.layers.LSTMCell`, and will be replaced by that in Tensorflow 2.0.\n",
            "  cell = tf.compat.v1.nn.rnn_cell.LSTMCell(hidden_d, name=name)\n",
            "2024-10-22 08:48:26.741948: W tensorflow/core/common_runtime/gpu/gpu_bfc_allocator.cc:47] Overriding orig_value setting because the TF_FORCE_GPU_ALLOW_GROWTH environment variable is set. Original config value was 0.\n",
            "{\n",
            "  \"rouge-1\": {\n",
            "    \"r\": 0.19974627529218617,\n",
            "    \"p\": 0.256790730542271,\n",
            "    \"f\": 0.21823004643830046\n",
            "  },\n",
            "  \"rouge-2\": {\n",
            "    \"r\": 0.0742506434502856,\n",
            "    \"p\": 0.09390693090969997,\n",
            "    \"f\": 0.0804832666351825\n",
            "  },\n",
            "  \"rouge-l\": {\n",
            "    \"r\": 0.1802125655643544,\n",
            "    \"p\": 0.23165283902493095,\n",
            "    \"f\": 0.19673833383215872\n",
            "  }\n",
            "}\n"
          ]
        }
      ]
    },
    {
      "cell_type": "code",
      "source": [
        "eval_loss = 0\n",
        "results = []\n",
        "\n",
        "# Add progress bar for evaluation\n",
        "with torch.no_grad():\n",
        "    progress_bar = tqdm(eval_dataloader, desc=\"Evaluating\")\n",
        "    for batch in progress_bar:\n",
        "        input_ids = batch[\"input_ids\"].to(device)\n",
        "        attention_mask = batch[\"attention_mask\"].to(device)\n",
        "        ids = batch[\"id\"]  # Assuming 'id' is included in your dataset batches for identification\n",
        "\n",
        "        # Generate predictions\n",
        "        generated_ids = model.generate(\n",
        "            input_ids=input_ids,\n",
        "            attention_mask=attention_mask,\n",
        "            max_length=args_alternate_2.max_output_length,\n",
        "            early_stopping=args_alternate_2.early_stopping,\n",
        "            do_sample=False # greedy\n",
        "        )\n",
        "\n",
        "        # Decode predictions\n",
        "        decoded_preds = tokenizer.batch_decode(generated_ids, skip_special_tokens=True)\n",
        "\n",
        "        # Format each prediction and add it to results\n",
        "        for i, title in enumerate(decoded_preds):\n",
        "            result = {\n",
        "                \"title\": title,\n",
        "                \"id\": ids[i]\n",
        "            }\n",
        "            results.append(result)\n",
        "\n",
        "# Write results to the submission file in the required format\n",
        "with open(args_alternate_2.submission_path, \"w\", encoding=\"utf-8\") as f:\n",
        "    for result in results:\n",
        "        json.dump(result, f, ensure_ascii=False)\n",
        "        f.write(\"\\n\")\n",
        "\n",
        "print(f\"Submission file saved to: {args_alternate_2.submission_path}\")"
      ],
      "metadata": {
        "colab": {
          "base_uri": "https://localhost:8080/"
        },
        "id": "x0pzvtliW2nO",
        "outputId": "e99e044f-058e-4bc7-b336-e74db03fcb41"
      },
      "execution_count": 46,
      "outputs": [
        {
          "output_type": "stream",
          "name": "stderr",
          "text": [
            "\rEvaluating:   0%|          | 0/687 [00:00<?, ?it/s]/usr/local/lib/python3.10/dist-packages/transformers/generation/configuration_utils.py:615: UserWarning: `num_beams` is set to 1. However, `early_stopping` is set to `True` -- this flag is only used in beam-based generation modes. You should set `num_beams>1` or unset `early_stopping`.\n",
            "  warnings.warn(\n",
            "Evaluating: 100%|██████████| 687/687 [05:57<00:00,  1.92it/s]"
          ]
        },
        {
          "output_type": "stream",
          "name": "stdout",
          "text": [
            "Submission file saved to: /content/drive/MyDrive/ADL/hw2/data/submission_v3_epoch_6.jsonl\n"
          ]
        },
        {
          "output_type": "stream",
          "name": "stderr",
          "text": [
            "\n"
          ]
        }
      ]
    },
    {
      "cell_type": "code",
      "source": [
        "!python {file_path_prefix}/evaluation/eval.py -r {file_path_prefix}/data/public.jsonl -s {args_alternate_2.submission_path}"
      ],
      "metadata": {
        "colab": {
          "base_uri": "https://localhost:8080/"
        },
        "id": "2JPSmBvbV5wj",
        "outputId": "c10fcb25-8ed4-456f-fa50-3ea07359ce37"
      },
      "execution_count": 47,
      "outputs": [
        {
          "output_type": "stream",
          "name": "stdout",
          "text": [
            "2024-10-22 08:54:34.346591: E external/local_xla/xla/stream_executor/cuda/cuda_fft.cc:485] Unable to register cuFFT factory: Attempting to register factory for plugin cuFFT when one has already been registered\n",
            "2024-10-22 08:54:34.368867: E external/local_xla/xla/stream_executor/cuda/cuda_dnn.cc:8454] Unable to register cuDNN factory: Attempting to register factory for plugin cuDNN when one has already been registered\n",
            "2024-10-22 08:54:34.375365: E external/local_xla/xla/stream_executor/cuda/cuda_blas.cc:1452] Unable to register cuBLAS factory: Attempting to register factory for plugin cuBLAS when one has already been registered\n",
            "2024-10-22 08:54:35.537321: W tensorflow/compiler/tf2tensorrt/utils/py_utils.cc:38] TF-TRT Warning: Could not find TensorRT\n",
            "/usr/local/lib/python3.10/dist-packages/ckiptagger/model_ws.py:106: UserWarning: `tf.nn.rnn_cell.LSTMCell` is deprecated and will be removed in a future version. This class is equivalent as `tf.keras.layers.LSTMCell`, and will be replaced by that in Tensorflow 2.0.\n",
            "  cell = tf.compat.v1.nn.rnn_cell.LSTMCell(hidden_d, name=name)\n",
            "2024-10-22 08:54:37.558016: W tensorflow/core/common_runtime/gpu/gpu_bfc_allocator.cc:47] Overriding orig_value setting because the TF_FORCE_GPU_ALLOW_GROWTH environment variable is set. Original config value was 0.\n",
            "{\n",
            "  \"rouge-1\": {\n",
            "    \"r\": 0.18862292145374146,\n",
            "    \"p\": 0.23875933682407052,\n",
            "    \"f\": 0.20432694601116974\n",
            "  },\n",
            "  \"rouge-2\": {\n",
            "    \"r\": 0.06294042406036797,\n",
            "    \"p\": 0.07577382120114962,\n",
            "    \"f\": 0.06659188212824751\n",
            "  },\n",
            "  \"rouge-l\": {\n",
            "    \"r\": 0.16967691722592307,\n",
            "    \"p\": 0.21502947676541387,\n",
            "    \"f\": 0.18377178998739296\n",
            "  }\n",
            "}\n"
          ]
        }
      ]
    },
    {
      "cell_type": "code",
      "source": [
        "# num of beams\n",
        "args_alternate_beam3 = {\n",
        "    \"model_name\": \"google/mt5-small\",\n",
        "    \"eval_dataset_path\": f\"{file_path_prefix}/data/public.jsonl\",\n",
        "    \"submission_path\": f\"{file_path_prefix}/data/submission_v3_epoch_6_beam3.jsonl\",\n",
        "    \"model_path\": f\"{file_path_prefix}/models/fine_tuned_mt5_v3_epoch_6.pth\",\n",
        "    \"tokenizer_path\": f\"{file_path_prefix}/models/fine_tuned_mt5_v3_epoch_6\",\n",
        "    \"batch_size\": 8,\n",
        "    \"max_input_length\": 512,\n",
        "    \"max_output_length\": 100,\n",
        "    \"num_beams\": 3,\n",
        "    \"early_stopping\": True,\n",
        "    \"temperature\": 1,\n",
        "    \"top_p\": 0.95,\n",
        "    \"top_k\": 50\n",
        "}\n",
        "\n",
        "args_alternate_beam10 = {\n",
        "    \"model_name\": \"google/mt5-small\",\n",
        "    \"eval_dataset_path\": f\"{file_path_prefix}/data/public.jsonl\",\n",
        "    \"submission_path\": f\"{file_path_prefix}/data/submission_v3_epoch_6_beam10.jsonl\",\n",
        "    \"model_path\": f\"{file_path_prefix}/models/fine_tuned_mt5_v3_epoch_6.pth\",\n",
        "    \"tokenizer_path\": f\"{file_path_prefix}/models/fine_tuned_mt5_v3_epoch_6\",\n",
        "    \"batch_size\": 8,\n",
        "    \"max_input_length\": 512,\n",
        "    \"max_output_length\": 100,\n",
        "    \"num_beams\": 10,\n",
        "    \"early_stopping\": True,\n",
        "    \"temperature\": 1,\n",
        "    \"top_p\": 0.95,\n",
        "    \"top_k\": 50\n",
        "}\n",
        "\n",
        "args_alternate_beam15 = {\n",
        "    \"model_name\": \"google/mt5-small\",\n",
        "    \"eval_dataset_path\": f\"{file_path_prefix}/data/public.jsonl\",\n",
        "    \"submission_path\": f\"{file_path_prefix}/data/submission_v3_epoch_6_beam15.jsonl\",\n",
        "    \"model_path\": f\"{file_path_prefix}/models/fine_tuned_mt5_v3_epoch_6.pth\",\n",
        "    \"tokenizer_path\": f\"{file_path_prefix}/models/fine_tuned_mt5_v3_epoch_6\",\n",
        "    \"batch_size\": 8,\n",
        "    \"max_input_length\": 512,\n",
        "    \"max_output_length\": 100,\n",
        "    \"num_beams\": 15,\n",
        "    \"early_stopping\": True,\n",
        "    \"temperature\": 1,\n",
        "    \"top_p\": 0.95,\n",
        "    \"top_k\": 50\n",
        "}\n",
        "\n",
        "args_alternate_beam20 = {\n",
        "    \"model_name\": \"google/mt5-small\",\n",
        "    \"eval_dataset_path\": f\"{file_path_prefix}/data/public.jsonl\",\n",
        "    \"submission_path\": f\"{file_path_prefix}/data/submission_v3_epoch_6_beam20.jsonl\",\n",
        "    \"model_path\": f\"{file_path_prefix}/models/fine_tuned_mt5_v3_epoch_6.pth\",\n",
        "    \"tokenizer_path\": f\"{file_path_prefix}/models/fine_tuned_mt5_v3_epoch_6\",\n",
        "    \"batch_size\": 8,\n",
        "    \"max_input_length\": 512,\n",
        "    \"max_output_length\": 100,\n",
        "    \"num_beams\": 20,\n",
        "    \"early_stopping\": True,\n",
        "    \"temperature\": 1,\n",
        "    \"top_p\": 0.95,\n",
        "    \"top_k\": 50\n",
        "}\n",
        "args_alternate_beam3 = Namespace(**args_alternate_beam3)\n",
        "args_alternate_beam10 = Namespace(**args_alternate_beam10)\n",
        "args_alternate_beam15 = Namespace(**args_alternate_beam15)\n",
        "args_alternate_beam20 = Namespace(**args_alternate_beam20)\n"
      ],
      "metadata": {
        "id": "Lin9z322YR1c"
      },
      "execution_count": 28,
      "outputs": []
    },
    {
      "cell_type": "code",
      "source": [
        "# Evaluation loop on the evaluation dataset\n",
        "import json\n",
        "from tqdm import tqdm\n",
        "from transformers import T5ForConditionalGeneration, T5Tokenizer\n",
        "\n",
        "# Initialize Accelerator\n",
        "accelerator = Accelerator()\n",
        "\n",
        "# Prepare model and optimizer\n",
        "# Load pre-trained multilingual T5 model and tokenizer\n",
        "tokenizer = T5Tokenizer.from_pretrained(args_alternate_beam3.tokenizer_path)\n",
        "model = T5ForConditionalGeneration.from_pretrained(args_alternate_beam3.model_name)\n",
        "\n",
        "eval_dataset = NewsSummaryDataset(\n",
        "    filepath=args_alternate_beam3.eval_dataset_path,\n",
        "    tokenizer=tokenizer,\n",
        "    max_input_length=args_alternate_beam3.max_input_length,\n",
        "    max_output_length=args_alternate_beam3.max_output_length,\n",
        ")\n",
        "\n",
        "eval_dataloader = DataLoader(\n",
        "    eval_dataset, batch_size=args_alternate_beam3.batch_size, shuffle=False\n",
        ")\n",
        "\n",
        "model, eval_dataloader = accelerator.prepare(\n",
        "    model,\n",
        "    eval_dataloader,\n",
        ")\n",
        "\n",
        "device = accelerator.device\n",
        "state_dict = torch.load(args_alternate_beam3.model_path, map_location=device)\n",
        "model.load_state_dict(state_dict)\n",
        "\n",
        "model.eval()\n",
        "model.to(device)\n",
        "eval_loss = 0\n",
        "results = []\n",
        "\n",
        "# Add progress bar for evaluation\n",
        "with torch.no_grad():\n",
        "    progress_bar = tqdm(eval_dataloader, desc=\"Evaluating\")\n",
        "    for batch in progress_bar:\n",
        "        input_ids = batch[\"input_ids\"].to(device)\n",
        "        attention_mask = batch[\"attention_mask\"].to(device)\n",
        "        ids = batch[\"id\"]  # Assuming 'id' is included in your dataset batches for identification\n",
        "\n",
        "        # Generate predictions\n",
        "        generated_ids = model.generate(\n",
        "            input_ids=input_ids,\n",
        "            attention_mask=attention_mask,\n",
        "            max_length=args_alternate_beam3.max_output_length,\n",
        "            num_beams=args_alternate_beam3.num_beams,\n",
        "            early_stopping=args_alternate_beam3.early_stopping,\n",
        "            temperature=args_alternate_beam3.temperature,\n",
        "            top_p=args_alternate_beam3.top_p,\n",
        "            top_k=args_alternate_beam3.top_k\n",
        "        )\n",
        "\n",
        "        # Decode predictions\n",
        "        decoded_preds = tokenizer.batch_decode(generated_ids, skip_special_tokens=True)\n",
        "\n",
        "        # Format each prediction and add it to results\n",
        "        for i, title in enumerate(decoded_preds):\n",
        "            result = {\n",
        "                \"title\": title,\n",
        "                \"id\": ids[i]\n",
        "            }\n",
        "            results.append(result)\n",
        "\n",
        "# Write results to the submission file in the required format\n",
        "with open(args_alternate_beam3.submission_path, \"w\", encoding=\"utf-8\") as f:\n",
        "    for result in results:\n",
        "        json.dump(result, f, ensure_ascii=False)\n",
        "        f.write(\"\\n\")\n",
        "\n",
        "print(f\"Submission file saved to: {args_alternate_beam3.submission_path}\")"
      ],
      "metadata": {
        "colab": {
          "base_uri": "https://localhost:8080/"
        },
        "id": "1rA7naLUPaRv",
        "outputId": "10c3e6ae-4147-4bcc-bcb2-301d8d281803"
      },
      "execution_count": 13,
      "outputs": [
        {
          "output_type": "stream",
          "name": "stderr",
          "text": [
            "You are using a model of type mt5 to instantiate a model of type t5. This is not supported for all configurations of models and can yield errors.\n",
            "<ipython-input-13-eaf9809d2920>:31: FutureWarning: You are using `torch.load` with `weights_only=False` (the current default value), which uses the default pickle module implicitly. It is possible to construct malicious pickle data which will execute arbitrary code during unpickling (See https://github.com/pytorch/pytorch/blob/main/SECURITY.md#untrusted-models for more details). In a future release, the default value for `weights_only` will be flipped to `True`. This limits the functions that could be executed during unpickling. Arbitrary objects will no longer be allowed to be loaded via this mode unless they are explicitly allowlisted by the user via `torch.serialization.add_safe_globals`. We recommend you start setting `weights_only=True` for any use case where you don't have full control of the loaded file. Please open an issue on GitHub for any issues related to this experimental feature.\n",
            "  state_dict = torch.load(args_alternate_beam3.model_path, map_location=device)\n",
            "Evaluating:   0%|          | 0/687 [00:00<?, ?it/s]/usr/local/lib/python3.10/dist-packages/transformers/generation/configuration_utils.py:572: UserWarning: `do_sample` is set to `False`. However, `top_p` is set to `0.95` -- this flag is only used in sample-based generation modes. You should set `do_sample=True` or unset `top_p`.\n",
            "  warnings.warn(\n",
            "Evaluating: 100%|██████████| 687/687 [07:30<00:00,  1.53it/s]"
          ]
        },
        {
          "output_type": "stream",
          "name": "stdout",
          "text": [
            "Submission file saved to: /content/drive/MyDrive/ADL/hw2/data/submission_v3_epoch_6_beam3.jsonl\n"
          ]
        },
        {
          "output_type": "stream",
          "name": "stderr",
          "text": [
            "\n"
          ]
        }
      ]
    },
    {
      "cell_type": "code",
      "source": [
        "!python {file_path_prefix}/evaluation/eval.py -r {file_path_prefix}/data/public.jsonl -s {args_alternate_beam3.submission_path}"
      ],
      "metadata": {
        "colab": {
          "base_uri": "https://localhost:8080/"
        },
        "id": "Ho_F2BMhOnPJ",
        "outputId": "2c05864d-f566-4be0-e257-38648bfbc931"
      },
      "execution_count": 14,
      "outputs": [
        {
          "output_type": "stream",
          "name": "stdout",
          "text": [
            "2024-10-22 12:56:31.753153: I tensorflow/core/util/port.cc:153] oneDNN custom operations are on. You may see slightly different numerical results due to floating-point round-off errors from different computation orders. To turn them off, set the environment variable `TF_ENABLE_ONEDNN_OPTS=0`.\n",
            "2024-10-22 12:56:31.771448: E external/local_xla/xla/stream_executor/cuda/cuda_fft.cc:485] Unable to register cuFFT factory: Attempting to register factory for plugin cuFFT when one has already been registered\n",
            "2024-10-22 12:56:31.792622: E external/local_xla/xla/stream_executor/cuda/cuda_dnn.cc:8454] Unable to register cuDNN factory: Attempting to register factory for plugin cuDNN when one has already been registered\n",
            "2024-10-22 12:56:31.799133: E external/local_xla/xla/stream_executor/cuda/cuda_blas.cc:1452] Unable to register cuBLAS factory: Attempting to register factory for plugin cuBLAS when one has already been registered\n",
            "2024-10-22 12:56:31.814704: I tensorflow/core/platform/cpu_feature_guard.cc:210] This TensorFlow binary is optimized to use available CPU instructions in performance-critical operations.\n",
            "To enable the following instructions: AVX2 AVX512F AVX512_VNNI FMA, in other operations, rebuild TensorFlow with the appropriate compiler flags.\n",
            "2024-10-22 12:56:32.873796: W tensorflow/compiler/tf2tensorrt/utils/py_utils.cc:38] TF-TRT Warning: Could not find TensorRT\n",
            "Downloading...\n",
            "From (original): https://drive.google.com/uc?id=1efHsY16pxK0lBD2gYCgCTnv1Swstq771\n",
            "From (redirected): https://drive.google.com/uc?id=1efHsY16pxK0lBD2gYCgCTnv1Swstq771&confirm=t&uuid=46f69353-89a7-4a06-9fb5-93369c81170e\n",
            "To: /root/.cache/ckiptagger/data.zip\n",
            "100% 1.88G/1.88G [00:07<00:00, 266MB/s]\n",
            "/usr/local/lib/python3.10/dist-packages/ckiptagger/model_ws.py:106: UserWarning: `tf.nn.rnn_cell.LSTMCell` is deprecated and will be removed in a future version. This class is equivalent as `tf.keras.layers.LSTMCell`, and will be replaced by that in Tensorflow 2.0.\n",
            "  cell = tf.compat.v1.nn.rnn_cell.LSTMCell(hidden_d, name=name)\n",
            "2024-10-22 12:57:04.540045: W tensorflow/core/common_runtime/gpu/gpu_bfc_allocator.cc:47] Overriding orig_value setting because the TF_FORCE_GPU_ALLOW_GROWTH environment variable is set. Original config value was 0.\n",
            "2024-10-22 12:57:04.542342: I tensorflow/core/common_runtime/gpu/gpu_device.cc:2021] Created device /job:localhost/replica:0/task:0/device:GPU:0 with 34723 MB memory:  -> device: 0, name: NVIDIA A100-SXM4-40GB, pci bus id: 0000:00:04.0, compute capability: 8.0\n",
            "2024-10-22 12:57:06.043238: I tensorflow/core/common_runtime/gpu/gpu_device.cc:2021] Created device /job:localhost/replica:0/task:0/device:GPU:0 with 34723 MB memory:  -> device: 0, name: NVIDIA A100-SXM4-40GB, pci bus id: 0000:00:04.0, compute capability: 8.0\n",
            "2024-10-22 12:57:06.096789: I tensorflow/compiler/mlir/mlir_graph_optimization_pass.cc:388] MLIR V1 optimization pass is not enabled\n",
            "{\n",
            "  \"rouge-1\": {\n",
            "    \"r\": 0.2153019704144757,\n",
            "    \"p\": 0.2670319688627537,\n",
            "    \"f\": 0.23146232481574364\n",
            "  },\n",
            "  \"rouge-2\": {\n",
            "    \"r\": 0.07846343469025065,\n",
            "    \"p\": 0.09562126645768028,\n",
            "    \"f\": 0.08356186849554517\n",
            "  },\n",
            "  \"rouge-l\": {\n",
            "    \"r\": 0.19492807915424432,\n",
            "    \"p\": 0.24214432454651974,\n",
            "    \"f\": 0.20955141337203215\n",
            "  }\n",
            "}\n"
          ]
        }
      ]
    },
    {
      "cell_type": "code",
      "source": [
        "\n",
        "model.eval()\n",
        "model.to(device)\n",
        "results = []\n",
        "\n",
        "# Add progress bar for evaluation\n",
        "with torch.no_grad():\n",
        "    progress_bar = tqdm(eval_dataloader, desc=\"Evaluating\")\n",
        "    for batch in progress_bar:\n",
        "        input_ids = batch[\"input_ids\"].to(device)\n",
        "        attention_mask = batch[\"attention_mask\"].to(device)\n",
        "        ids = batch[\"id\"]  # Assuming 'id' is included in your dataset batches for identification\n",
        "\n",
        "        # Generate predictions\n",
        "        generated_ids = model.generate(\n",
        "            input_ids=input_ids,\n",
        "            attention_mask=attention_mask,\n",
        "            max_length=args_alternate_beam10.max_output_length,\n",
        "            num_beams=args_alternate_beam10.num_beams,\n",
        "            early_stopping=args_alternate_beam10.early_stopping,\n",
        "            temperature=args_alternate_beam10.temperature,\n",
        "            top_p=args_alternate_beam10.top_p,\n",
        "            top_k=args_alternate_beam10.top_k\n",
        "        )\n",
        "\n",
        "        # Decode predictions\n",
        "        decoded_preds = tokenizer.batch_decode(generated_ids, skip_special_tokens=True)\n",
        "\n",
        "        # Format each prediction and add it to results\n",
        "        for i, title in enumerate(decoded_preds):\n",
        "            result = {\n",
        "                \"title\": title,\n",
        "                \"id\": ids[i]\n",
        "            }\n",
        "            results.append(result)\n",
        "\n",
        "# Write results to the submission file in the required format\n",
        "with open(args_alternate_beam10.submission_path, \"w\", encoding=\"utf-8\") as f:\n",
        "    for result in results:\n",
        "        json.dump(result, f, ensure_ascii=False)\n",
        "        f.write(\"\\n\")\n",
        "\n",
        "print(f\"Submission file saved to: {args_alternate_beam10.submission_path}\")"
      ],
      "metadata": {
        "colab": {
          "base_uri": "https://localhost:8080/"
        },
        "id": "X1jHe2v0RXfk",
        "outputId": "bc9fc630-97b2-4fd4-e43e-0a0c20947f05"
      },
      "execution_count": 15,
      "outputs": [
        {
          "output_type": "stream",
          "name": "stderr",
          "text": [
            "\rEvaluating:   0%|          | 0/687 [00:00<?, ?it/s]/usr/local/lib/python3.10/dist-packages/transformers/generation/configuration_utils.py:572: UserWarning: `do_sample` is set to `False`. However, `top_p` is set to `0.95` -- this flag is only used in sample-based generation modes. You should set `do_sample=True` or unset `top_p`.\n",
            "  warnings.warn(\n",
            "Evaluating: 100%|██████████| 687/687 [10:45<00:00,  1.06it/s]"
          ]
        },
        {
          "output_type": "stream",
          "name": "stdout",
          "text": [
            "Submission file saved to: /content/drive/MyDrive/ADL/hw2/data/submission_v3_epoch_6_beam10.jsonl\n"
          ]
        },
        {
          "output_type": "stream",
          "name": "stderr",
          "text": [
            "\n"
          ]
        }
      ]
    },
    {
      "cell_type": "code",
      "source": [
        "!python {file_path_prefix}/evaluation/eval.py -r {file_path_prefix}/data/public.jsonl -s {args_alternate_beam10.submission_path}"
      ],
      "metadata": {
        "colab": {
          "base_uri": "https://localhost:8080/"
        },
        "id": "ByYnKypgSZVc",
        "outputId": "36f5b4b2-2185-48d1-e4e0-b20c68258705"
      },
      "execution_count": 16,
      "outputs": [
        {
          "output_type": "stream",
          "name": "stdout",
          "text": [
            "2024-10-22 13:08:01.592724: I tensorflow/core/util/port.cc:153] oneDNN custom operations are on. You may see slightly different numerical results due to floating-point round-off errors from different computation orders. To turn them off, set the environment variable `TF_ENABLE_ONEDNN_OPTS=0`.\n",
            "2024-10-22 13:08:01.611280: E external/local_xla/xla/stream_executor/cuda/cuda_fft.cc:485] Unable to register cuFFT factory: Attempting to register factory for plugin cuFFT when one has already been registered\n",
            "2024-10-22 13:08:01.632956: E external/local_xla/xla/stream_executor/cuda/cuda_dnn.cc:8454] Unable to register cuDNN factory: Attempting to register factory for plugin cuDNN when one has already been registered\n",
            "2024-10-22 13:08:01.639554: E external/local_xla/xla/stream_executor/cuda/cuda_blas.cc:1452] Unable to register cuBLAS factory: Attempting to register factory for plugin cuBLAS when one has already been registered\n",
            "2024-10-22 13:08:01.655304: I tensorflow/core/platform/cpu_feature_guard.cc:210] This TensorFlow binary is optimized to use available CPU instructions in performance-critical operations.\n",
            "To enable the following instructions: AVX2 AVX512F AVX512_VNNI FMA, in other operations, rebuild TensorFlow with the appropriate compiler flags.\n",
            "2024-10-22 13:08:02.720612: W tensorflow/compiler/tf2tensorrt/utils/py_utils.cc:38] TF-TRT Warning: Could not find TensorRT\n",
            "/usr/local/lib/python3.10/dist-packages/ckiptagger/model_ws.py:106: UserWarning: `tf.nn.rnn_cell.LSTMCell` is deprecated and will be removed in a future version. This class is equivalent as `tf.keras.layers.LSTMCell`, and will be replaced by that in Tensorflow 2.0.\n",
            "  cell = tf.compat.v1.nn.rnn_cell.LSTMCell(hidden_d, name=name)\n",
            "2024-10-22 13:08:04.745892: W tensorflow/core/common_runtime/gpu/gpu_bfc_allocator.cc:47] Overriding orig_value setting because the TF_FORCE_GPU_ALLOW_GROWTH environment variable is set. Original config value was 0.\n",
            "2024-10-22 13:08:04.746086: I tensorflow/core/common_runtime/gpu/gpu_device.cc:2021] Created device /job:localhost/replica:0/task:0/device:GPU:0 with 32373 MB memory:  -> device: 0, name: NVIDIA A100-SXM4-40GB, pci bus id: 0000:00:04.0, compute capability: 8.0\n",
            "2024-10-22 13:08:06.217791: I tensorflow/core/common_runtime/gpu/gpu_device.cc:2021] Created device /job:localhost/replica:0/task:0/device:GPU:0 with 32373 MB memory:  -> device: 0, name: NVIDIA A100-SXM4-40GB, pci bus id: 0000:00:04.0, compute capability: 8.0\n",
            "2024-10-22 13:08:06.269770: I tensorflow/compiler/mlir/mlir_graph_optimization_pass.cc:388] MLIR V1 optimization pass is not enabled\n",
            "{\n",
            "  \"rouge-1\": {\n",
            "    \"r\": 0.2193130147804842,\n",
            "    \"p\": 0.27028487432542697,\n",
            "    \"f\": 0.2355389723921282\n",
            "  },\n",
            "  \"rouge-2\": {\n",
            "    \"r\": 0.08284527005707268,\n",
            "    \"p\": 0.10163289605818959,\n",
            "    \"f\": 0.08870010953255054\n",
            "  },\n",
            "  \"rouge-l\": {\n",
            "    \"r\": 0.19857915407955917,\n",
            "    \"p\": 0.24527526813248798,\n",
            "    \"f\": 0.21338138701903073\n",
            "  }\n",
            "}\n"
          ]
        }
      ]
    },
    {
      "cell_type": "code",
      "source": [
        "\n",
        "model.eval()\n",
        "model.to(device)\n",
        "results = []\n",
        "\n",
        "# Add progress bar for evaluation\n",
        "with torch.no_grad():\n",
        "    progress_bar = tqdm(eval_dataloader, desc=\"Evaluating\")\n",
        "    for batch in progress_bar:\n",
        "        input_ids = batch[\"input_ids\"].to(device)\n",
        "        attention_mask = batch[\"attention_mask\"].to(device)\n",
        "        ids = batch[\"id\"]  # Assuming 'id' is included in your dataset batches for identification\n",
        "\n",
        "        # Generate predictions\n",
        "        generated_ids = model.generate(\n",
        "            input_ids=input_ids,\n",
        "            attention_mask=attention_mask,\n",
        "            max_length=args_alternate_beam15.max_output_length,\n",
        "            num_beams=args_alternate_beam15.num_beams,\n",
        "            early_stopping=args_alternate_beam15.early_stopping,\n",
        "            temperature=args_alternate_beam15.temperature,\n",
        "            top_p=args_alternate_beam15.top_p,\n",
        "            top_k=args_alternate_beam15.top_k\n",
        "        )\n",
        "\n",
        "        # Decode predictions\n",
        "        decoded_preds = tokenizer.batch_decode(generated_ids, skip_special_tokens=True)\n",
        "\n",
        "        # Format each prediction and add it to results\n",
        "        for i, title in enumerate(decoded_preds):\n",
        "            result = {\n",
        "                \"title\": title,\n",
        "                \"id\": ids[i]\n",
        "            }\n",
        "            results.append(result)\n",
        "\n",
        "# Write results to the submission file in the required format\n",
        "with open(args_alternate_beam15.submission_path, \"w\", encoding=\"utf-8\") as f:\n",
        "    for result in results:\n",
        "        json.dump(result, f, ensure_ascii=False)\n",
        "        f.write(\"\\n\")\n",
        "\n",
        "print(f\"Submission file saved to: {args_alternate_beam15.submission_path}\")"
      ],
      "metadata": {
        "colab": {
          "base_uri": "https://localhost:8080/"
        },
        "id": "biMPECP0kijV",
        "outputId": "13dcab29-77bd-427d-fc49-f6a0f05d43c4"
      },
      "execution_count": 29,
      "outputs": [
        {
          "output_type": "stream",
          "name": "stderr",
          "text": [
            "\rEvaluating:   0%|          | 0/687 [00:00<?, ?it/s]/usr/local/lib/python3.10/dist-packages/transformers/generation/configuration_utils.py:572: UserWarning: `do_sample` is set to `False`. However, `top_p` is set to `0.95` -- this flag is only used in sample-based generation modes. You should set `do_sample=True` or unset `top_p`.\n",
            "  warnings.warn(\n",
            "Evaluating: 100%|██████████| 687/687 [12:52<00:00,  1.12s/it]"
          ]
        },
        {
          "output_type": "stream",
          "name": "stdout",
          "text": [
            "Submission file saved to: /content/drive/MyDrive/ADL/hw2/data/submission_v3_epoch_6_beam15.jsonl\n"
          ]
        },
        {
          "output_type": "stream",
          "name": "stderr",
          "text": [
            "\n"
          ]
        }
      ]
    },
    {
      "cell_type": "code",
      "source": [
        "!python {file_path_prefix}/evaluation/eval.py -r {file_path_prefix}/data/public.jsonl -s {args_alternate_beam15.submission_path}"
      ],
      "metadata": {
        "colab": {
          "base_uri": "https://localhost:8080/"
        },
        "id": "-5EBwbjHkjM9",
        "outputId": "6aa2bf85-e9f8-4ebe-c326-a2c673a8d7d8"
      },
      "execution_count": 30,
      "outputs": [
        {
          "output_type": "stream",
          "name": "stdout",
          "text": [
            "2024-10-22 14:25:48.311255: I tensorflow/core/util/port.cc:153] oneDNN custom operations are on. You may see slightly different numerical results due to floating-point round-off errors from different computation orders. To turn them off, set the environment variable `TF_ENABLE_ONEDNN_OPTS=0`.\n",
            "2024-10-22 14:25:48.330425: E external/local_xla/xla/stream_executor/cuda/cuda_fft.cc:485] Unable to register cuFFT factory: Attempting to register factory for plugin cuFFT when one has already been registered\n",
            "2024-10-22 14:25:48.351602: E external/local_xla/xla/stream_executor/cuda/cuda_dnn.cc:8454] Unable to register cuDNN factory: Attempting to register factory for plugin cuDNN when one has already been registered\n",
            "2024-10-22 14:25:48.358305: E external/local_xla/xla/stream_executor/cuda/cuda_blas.cc:1452] Unable to register cuBLAS factory: Attempting to register factory for plugin cuBLAS when one has already been registered\n",
            "2024-10-22 14:25:48.373711: I tensorflow/core/platform/cpu_feature_guard.cc:210] This TensorFlow binary is optimized to use available CPU instructions in performance-critical operations.\n",
            "To enable the following instructions: AVX2 AVX512F AVX512_VNNI FMA, in other operations, rebuild TensorFlow with the appropriate compiler flags.\n",
            "2024-10-22 14:25:49.418686: W tensorflow/compiler/tf2tensorrt/utils/py_utils.cc:38] TF-TRT Warning: Could not find TensorRT\n",
            "/usr/local/lib/python3.10/dist-packages/ckiptagger/model_ws.py:106: UserWarning: `tf.nn.rnn_cell.LSTMCell` is deprecated and will be removed in a future version. This class is equivalent as `tf.keras.layers.LSTMCell`, and will be replaced by that in Tensorflow 2.0.\n",
            "  cell = tf.compat.v1.nn.rnn_cell.LSTMCell(hidden_d, name=name)\n",
            "2024-10-22 14:25:51.520045: W tensorflow/core/common_runtime/gpu/gpu_bfc_allocator.cc:47] Overriding orig_value setting because the TF_FORCE_GPU_ALLOW_GROWTH environment variable is set. Original config value was 0.\n",
            "2024-10-22 14:25:51.520244: I tensorflow/core/common_runtime/gpu/gpu_device.cc:2021] Created device /job:localhost/replica:0/task:0/device:GPU:0 with 28857 MB memory:  -> device: 0, name: NVIDIA A100-SXM4-40GB, pci bus id: 0000:00:04.0, compute capability: 8.0\n",
            "2024-10-22 14:25:52.976251: I tensorflow/core/common_runtime/gpu/gpu_device.cc:2021] Created device /job:localhost/replica:0/task:0/device:GPU:0 with 28857 MB memory:  -> device: 0, name: NVIDIA A100-SXM4-40GB, pci bus id: 0000:00:04.0, compute capability: 8.0\n",
            "2024-10-22 14:25:53.028062: I tensorflow/compiler/mlir/mlir_graph_optimization_pass.cc:388] MLIR V1 optimization pass is not enabled\n",
            "{\n",
            "  \"rouge-1\": {\n",
            "    \"r\": 0.22056847392431042,\n",
            "    \"p\": 0.2705268164197085,\n",
            "    \"f\": 0.23649312151402674\n",
            "  },\n",
            "  \"rouge-2\": {\n",
            "    \"r\": 0.08411469053021242,\n",
            "    \"p\": 0.10226181175865486,\n",
            "    \"f\": 0.08973602945184339\n",
            "  },\n",
            "  \"rouge-l\": {\n",
            "    \"r\": 0.19957358147622908,\n",
            "    \"p\": 0.24514937801960193,\n",
            "    \"f\": 0.21402399885288592\n",
            "  }\n",
            "}\n"
          ]
        }
      ]
    },
    {
      "cell_type": "code",
      "source": [
        "\n",
        "model.eval()\n",
        "model.to(device)\n",
        "results = []\n",
        "\n",
        "# Add progress bar for evaluation\n",
        "with torch.no_grad():\n",
        "    progress_bar = tqdm(eval_dataloader, desc=\"Evaluating\")\n",
        "    for batch in progress_bar:\n",
        "        input_ids = batch[\"input_ids\"].to(device)\n",
        "        attention_mask = batch[\"attention_mask\"].to(device)\n",
        "        ids = batch[\"id\"]  # Assuming 'id' is included in your dataset batches for identification\n",
        "\n",
        "        # Generate predictions\n",
        "        generated_ids = model.generate(\n",
        "            input_ids=input_ids,\n",
        "            attention_mask=attention_mask,\n",
        "            max_length=args_alternate_beam20.max_output_length,\n",
        "            num_beams=args_alternate_beam20.num_beams,\n",
        "            early_stopping=args_alternate_beam20.early_stopping,\n",
        "            temperature=args_alternate_beam20.temperature,\n",
        "            top_p=args_alternate_beam20.top_p,\n",
        "            top_k=args_alternate_beam20.top_k\n",
        "        )\n",
        "\n",
        "        # Decode predictions\n",
        "        decoded_preds = tokenizer.batch_decode(generated_ids, skip_special_tokens=True)\n",
        "\n",
        "        # Format each prediction and add it to results\n",
        "        for i, title in enumerate(decoded_preds):\n",
        "            result = {\n",
        "                \"title\": title,\n",
        "                \"id\": ids[i]\n",
        "            }\n",
        "            results.append(result)\n",
        "\n",
        "# Write results to the submission file in the required format\n",
        "with open(args_alternate_beam20.submission_path, \"w\", encoding=\"utf-8\") as f:\n",
        "    for result in results:\n",
        "        json.dump(result, f, ensure_ascii=False)\n",
        "        f.write(\"\\n\")\n",
        "\n",
        "print(f\"Submission file saved to: {args_alternate_beam20.submission_path}\")"
      ],
      "metadata": {
        "colab": {
          "base_uri": "https://localhost:8080/"
        },
        "id": "vsjclbnokj4s",
        "outputId": "264ab8b1-b1c2-4088-9998-6b6906b2cff1"
      },
      "execution_count": 31,
      "outputs": [
        {
          "output_type": "stream",
          "name": "stderr",
          "text": [
            "\rEvaluating:   0%|          | 0/687 [00:00<?, ?it/s]/usr/local/lib/python3.10/dist-packages/transformers/generation/configuration_utils.py:572: UserWarning: `do_sample` is set to `False`. However, `top_p` is set to `0.95` -- this flag is only used in sample-based generation modes. You should set `do_sample=True` or unset `top_p`.\n",
            "  warnings.warn(\n",
            "Evaluating: 100%|██████████| 687/687 [15:16<00:00,  1.33s/it]"
          ]
        },
        {
          "output_type": "stream",
          "name": "stdout",
          "text": [
            "Submission file saved to: /content/drive/MyDrive/ADL/hw2/data/submission_v3_epoch_6_beam20.jsonl\n"
          ]
        },
        {
          "output_type": "stream",
          "name": "stderr",
          "text": [
            "\n"
          ]
        }
      ]
    },
    {
      "cell_type": "code",
      "source": [
        "!python {file_path_prefix}/evaluation/eval.py -r {file_path_prefix}/data/public.jsonl -s {args_alternate_beam20.submission_path}"
      ],
      "metadata": {
        "colab": {
          "base_uri": "https://localhost:8080/"
        },
        "id": "2zA5pANZkjtw",
        "outputId": "1932756b-4b21-4f91-8341-8ba50b354cda"
      },
      "execution_count": 32,
      "outputs": [
        {
          "output_type": "stream",
          "name": "stdout",
          "text": [
            "2024-10-22 14:41:17.546705: I tensorflow/core/util/port.cc:153] oneDNN custom operations are on. You may see slightly different numerical results due to floating-point round-off errors from different computation orders. To turn them off, set the environment variable `TF_ENABLE_ONEDNN_OPTS=0`.\n",
            "2024-10-22 14:41:17.565759: E external/local_xla/xla/stream_executor/cuda/cuda_fft.cc:485] Unable to register cuFFT factory: Attempting to register factory for plugin cuFFT when one has already been registered\n",
            "2024-10-22 14:41:17.587699: E external/local_xla/xla/stream_executor/cuda/cuda_dnn.cc:8454] Unable to register cuDNN factory: Attempting to register factory for plugin cuDNN when one has already been registered\n",
            "2024-10-22 14:41:17.594224: E external/local_xla/xla/stream_executor/cuda/cuda_blas.cc:1452] Unable to register cuBLAS factory: Attempting to register factory for plugin cuBLAS when one has already been registered\n",
            "2024-10-22 14:41:17.609753: I tensorflow/core/platform/cpu_feature_guard.cc:210] This TensorFlow binary is optimized to use available CPU instructions in performance-critical operations.\n",
            "To enable the following instructions: AVX2 AVX512F AVX512_VNNI FMA, in other operations, rebuild TensorFlow with the appropriate compiler flags.\n",
            "2024-10-22 14:41:18.679849: W tensorflow/compiler/tf2tensorrt/utils/py_utils.cc:38] TF-TRT Warning: Could not find TensorRT\n",
            "/usr/local/lib/python3.10/dist-packages/ckiptagger/model_ws.py:106: UserWarning: `tf.nn.rnn_cell.LSTMCell` is deprecated and will be removed in a future version. This class is equivalent as `tf.keras.layers.LSTMCell`, and will be replaced by that in Tensorflow 2.0.\n",
            "  cell = tf.compat.v1.nn.rnn_cell.LSTMCell(hidden_d, name=name)\n",
            "2024-10-22 14:41:20.792045: W tensorflow/core/common_runtime/gpu/gpu_bfc_allocator.cc:47] Overriding orig_value setting because the TF_FORCE_GPU_ALLOW_GROWTH environment variable is set. Original config value was 0.\n",
            "2024-10-22 14:41:20.792237: I tensorflow/core/common_runtime/gpu/gpu_device.cc:2021] Created device /job:localhost/replica:0/task:0/device:GPU:0 with 24293 MB memory:  -> device: 0, name: NVIDIA A100-SXM4-40GB, pci bus id: 0000:00:04.0, compute capability: 8.0\n",
            "2024-10-22 14:41:22.258637: I tensorflow/core/common_runtime/gpu/gpu_device.cc:2021] Created device /job:localhost/replica:0/task:0/device:GPU:0 with 24293 MB memory:  -> device: 0, name: NVIDIA A100-SXM4-40GB, pci bus id: 0000:00:04.0, compute capability: 8.0\n",
            "2024-10-22 14:41:22.311035: I tensorflow/compiler/mlir/mlir_graph_optimization_pass.cc:388] MLIR V1 optimization pass is not enabled\n",
            "{\n",
            "  \"rouge-1\": {\n",
            "    \"r\": 0.2209974448487957,\n",
            "    \"p\": 0.27007275026607475,\n",
            "    \"f\": 0.23670337841886446\n",
            "  },\n",
            "  \"rouge-2\": {\n",
            "    \"r\": 0.08449645229796839,\n",
            "    \"p\": 0.10247560068764226,\n",
            "    \"f\": 0.0901093056645916\n",
            "  },\n",
            "  \"rouge-l\": {\n",
            "    \"r\": 0.19974027797399113,\n",
            "    \"p\": 0.24447453491568183,\n",
            "    \"f\": 0.21397818240972868\n",
            "  }\n",
            "}\n"
          ]
        }
      ]
    },
    {
      "cell_type": "markdown",
      "source": [
        "### Top k"
      ],
      "metadata": {
        "id": "so96HVRYUenE"
      }
    },
    {
      "cell_type": "code",
      "source": [
        "# top k\n",
        "args_alternate_topk30 = {\n",
        "    \"model_name\": \"google/mt5-small\",\n",
        "    \"eval_dataset_path\": f\"{file_path_prefix}/data/public.jsonl\",\n",
        "    \"submission_path\": f\"{file_path_prefix}/data/submission_v3_epoch_6_topk30.jsonl\",\n",
        "    \"model_path\": f\"{file_path_prefix}/models/fine_tuned_mt5_v3_epoch_6.pth\",\n",
        "    \"tokenizer_path\": f\"{file_path_prefix}/models/fine_tuned_mt5_v3_epoch_6\",\n",
        "    \"batch_size\": 8,\n",
        "    \"max_input_length\": 512,\n",
        "    \"max_output_length\": 100,\n",
        "    \"num_beams\": 5,\n",
        "    \"early_stopping\": True,\n",
        "    \"temperature\": 1,\n",
        "    \"top_p\": 0.95,\n",
        "    \"top_k\": 30\n",
        "}\n",
        "\n",
        "args_alternate_topk70 = {\n",
        "    \"model_name\": \"google/mt5-small\",\n",
        "    \"eval_dataset_path\": f\"{file_path_prefix}/data/public.jsonl\",\n",
        "    \"submission_path\": f\"{file_path_prefix}/data/submission_v3_epoch_6_topk70.jsonl\",\n",
        "    \"model_path\": f\"{file_path_prefix}/models/fine_tuned_mt5_v3_epoch_6.pth\",\n",
        "    \"tokenizer_path\": f\"{file_path_prefix}/models/fine_tuned_mt5_v3_epoch_6\",\n",
        "    \"batch_size\": 8,\n",
        "    \"max_input_length\": 512,\n",
        "    \"max_output_length\": 100,\n",
        "    \"num_beams\": 5,\n",
        "    \"early_stopping\": True,\n",
        "    \"temperature\": 1,\n",
        "    \"top_p\": 0.95,\n",
        "    \"top_k\": 70\n",
        "}\n",
        "\n",
        "args_alternate_topk30 = Namespace(**args_alternate_topk30)\n",
        "args_alternate_topk70 = Namespace(**args_alternate_topk70)"
      ],
      "metadata": {
        "id": "MqLjtnEIScbe"
      },
      "execution_count": 17,
      "outputs": []
    },
    {
      "cell_type": "code",
      "source": [
        "model.eval()\n",
        "model.to(device)\n",
        "eval_loss = 0\n",
        "results = []\n",
        "\n",
        "# Add progress bar for evaluation\n",
        "with torch.no_grad():\n",
        "    progress_bar = tqdm(eval_dataloader, desc=\"Evaluating\")\n",
        "    for batch in progress_bar:\n",
        "        input_ids = batch[\"input_ids\"].to(device)\n",
        "        attention_mask = batch[\"attention_mask\"].to(device)\n",
        "        ids = batch[\"id\"]  # Assuming 'id' is included in your dataset batches for identification\n",
        "\n",
        "        # Generate predictions\n",
        "        generated_ids = model.generate(\n",
        "            input_ids=input_ids,\n",
        "            attention_mask=attention_mask,\n",
        "            max_length=args_alternate_topk30.max_output_length,\n",
        "            num_beams=args_alternate_topk30.num_beams,\n",
        "            early_stopping=args_alternate_topk30.early_stopping,\n",
        "            temperature=args_alternate_topk30.temperature,\n",
        "            top_p=args_alternate_topk30.top_p,\n",
        "            top_k=args_alternate_topk30.top_k\n",
        "        )\n",
        "\n",
        "        # Decode predictions\n",
        "        decoded_preds = tokenizer.batch_decode(generated_ids, skip_special_tokens=True)\n",
        "\n",
        "        # Format each prediction and add it to results\n",
        "        for i, title in enumerate(decoded_preds):\n",
        "            result = {\n",
        "                \"title\": title,\n",
        "                \"id\": ids[i]\n",
        "            }\n",
        "            results.append(result)\n",
        "\n",
        "# Write results to the submission file in the required format\n",
        "with open(args_alternate_topk30.submission_path, \"w\", encoding=\"utf-8\") as f:\n",
        "    for result in results:\n",
        "        json.dump(result, f, ensure_ascii=False)\n",
        "        f.write(\"\\n\")\n",
        "\n",
        "print(f\"Submission file saved to: {args_alternate_topk30.submission_path}\")"
      ],
      "metadata": {
        "colab": {
          "base_uri": "https://localhost:8080/"
        },
        "id": "w-cHgjlpTBTb",
        "outputId": "8813dc6c-f268-4498-fe0c-1cdf0073b1ee"
      },
      "execution_count": 21,
      "outputs": [
        {
          "output_type": "stream",
          "name": "stderr",
          "text": [
            "\rEvaluating:   0%|          | 0/687 [00:00<?, ?it/s]/usr/local/lib/python3.10/dist-packages/transformers/generation/configuration_utils.py:589: UserWarning: `do_sample` is set to `False`. However, `top_k` is set to `30` -- this flag is only used in sample-based generation modes. You should set `do_sample=True` or unset `top_k`.\n",
            "  warnings.warn(\n",
            "Evaluating: 100%|██████████| 687/687 [08:30<00:00,  1.35it/s]"
          ]
        },
        {
          "output_type": "stream",
          "name": "stdout",
          "text": [
            "Submission file saved to: /content/drive/MyDrive/ADL/hw2/data/submission_v3_epoch_6_topk30.jsonl\n"
          ]
        },
        {
          "output_type": "stream",
          "name": "stderr",
          "text": [
            "\n"
          ]
        }
      ]
    },
    {
      "cell_type": "code",
      "source": [
        "!python {file_path_prefix}/evaluation/eval.py -r {file_path_prefix}/data/public.jsonl -s {args_alternate_topk30.submission_path}"
      ],
      "metadata": {
        "colab": {
          "base_uri": "https://localhost:8080/"
        },
        "id": "yuOFssuETEnv",
        "outputId": "07e32f33-f9c5-477d-b2f1-902b17d322cd"
      },
      "execution_count": 22,
      "outputs": [
        {
          "output_type": "stream",
          "name": "stdout",
          "text": [
            "2024-10-22 13:30:37.199829: I tensorflow/core/util/port.cc:153] oneDNN custom operations are on. You may see slightly different numerical results due to floating-point round-off errors from different computation orders. To turn them off, set the environment variable `TF_ENABLE_ONEDNN_OPTS=0`.\n",
            "2024-10-22 13:30:37.217907: E external/local_xla/xla/stream_executor/cuda/cuda_fft.cc:485] Unable to register cuFFT factory: Attempting to register factory for plugin cuFFT when one has already been registered\n",
            "2024-10-22 13:30:37.239080: E external/local_xla/xla/stream_executor/cuda/cuda_dnn.cc:8454] Unable to register cuDNN factory: Attempting to register factory for plugin cuDNN when one has already been registered\n",
            "2024-10-22 13:30:37.245507: E external/local_xla/xla/stream_executor/cuda/cuda_blas.cc:1452] Unable to register cuBLAS factory: Attempting to register factory for plugin cuBLAS when one has already been registered\n",
            "2024-10-22 13:30:37.260772: I tensorflow/core/platform/cpu_feature_guard.cc:210] This TensorFlow binary is optimized to use available CPU instructions in performance-critical operations.\n",
            "To enable the following instructions: AVX2 AVX512F AVX512_VNNI FMA, in other operations, rebuild TensorFlow with the appropriate compiler flags.\n",
            "2024-10-22 13:30:38.306973: W tensorflow/compiler/tf2tensorrt/utils/py_utils.cc:38] TF-TRT Warning: Could not find TensorRT\n",
            "/usr/local/lib/python3.10/dist-packages/ckiptagger/model_ws.py:106: UserWarning: `tf.nn.rnn_cell.LSTMCell` is deprecated and will be removed in a future version. This class is equivalent as `tf.keras.layers.LSTMCell`, and will be replaced by that in Tensorflow 2.0.\n",
            "  cell = tf.compat.v1.nn.rnn_cell.LSTMCell(hidden_d, name=name)\n",
            "2024-10-22 13:30:40.327452: W tensorflow/core/common_runtime/gpu/gpu_bfc_allocator.cc:47] Overriding orig_value setting because the TF_FORCE_GPU_ALLOW_GROWTH environment variable is set. Original config value was 0.\n",
            "2024-10-22 13:30:40.327642: I tensorflow/core/common_runtime/gpu/gpu_device.cc:2021] Created device /job:localhost/replica:0/task:0/device:GPU:0 with 32373 MB memory:  -> device: 0, name: NVIDIA A100-SXM4-40GB, pci bus id: 0000:00:04.0, compute capability: 8.0\n",
            "2024-10-22 13:30:41.790041: I tensorflow/core/common_runtime/gpu/gpu_device.cc:2021] Created device /job:localhost/replica:0/task:0/device:GPU:0 with 32373 MB memory:  -> device: 0, name: NVIDIA A100-SXM4-40GB, pci bus id: 0000:00:04.0, compute capability: 8.0\n",
            "2024-10-22 13:30:41.843006: I tensorflow/compiler/mlir/mlir_graph_optimization_pass.cc:388] MLIR V1 optimization pass is not enabled\n",
            "{\n",
            "  \"rouge-1\": {\n",
            "    \"r\": 0.21695558521737526,\n",
            "    \"p\": 0.2697958912578689,\n",
            "    \"f\": 0.23370420633678365\n",
            "  },\n",
            "  \"rouge-2\": {\n",
            "    \"r\": 0.08108935130102102,\n",
            "    \"p\": 0.09992770874163713,\n",
            "    \"f\": 0.08688666877880573\n",
            "  },\n",
            "  \"rouge-l\": {\n",
            "    \"r\": 0.19640853665672536,\n",
            "    \"p\": 0.24485001258502623,\n",
            "    \"f\": 0.21169313391005237\n",
            "  }\n",
            "}\n"
          ]
        }
      ]
    },
    {
      "cell_type": "code",
      "source": [
        "model.eval()\n",
        "model.to(device)\n",
        "eval_loss = 0\n",
        "results = []\n",
        "\n",
        "# Add progress bar for evaluation\n",
        "with torch.no_grad():\n",
        "    progress_bar = tqdm(eval_dataloader, desc=\"Evaluating\")\n",
        "    for batch in progress_bar:\n",
        "        input_ids = batch[\"input_ids\"].to(device)\n",
        "        attention_mask = batch[\"attention_mask\"].to(device)\n",
        "        ids = batch[\"id\"]  # Assuming 'id' is included in your dataset batches for identification\n",
        "\n",
        "        # Generate predictions\n",
        "        generated_ids = model.generate(\n",
        "            input_ids=input_ids,\n",
        "            attention_mask=attention_mask,\n",
        "            max_length=args_alternate_topk70.max_output_length,\n",
        "            num_beams=args_alternate_topk70.num_beams,\n",
        "            early_stopping=args_alternate_topk70.early_stopping,\n",
        "            temperature=args_alternate_topk70.temperature,\n",
        "            top_p=args_alternate_topk70.top_p,\n",
        "            top_k=args_alternate_topk70.top_k\n",
        "        )\n",
        "\n",
        "        # Decode predictions\n",
        "        decoded_preds = tokenizer.batch_decode(generated_ids, skip_special_tokens=True)\n",
        "\n",
        "        # Format each prediction and add it to results\n",
        "        for i, title in enumerate(decoded_preds):\n",
        "            result = {\n",
        "                \"title\": title,\n",
        "                \"id\": ids[i]\n",
        "            }\n",
        "            results.append(result)\n",
        "\n",
        "# Write results to the submission file in the required format\n",
        "with open(args_alternate_topk70.submission_path, \"w\", encoding=\"utf-8\") as f:\n",
        "    for result in results:\n",
        "        json.dump(result, f, ensure_ascii=False)\n",
        "        f.write(\"\\n\")\n",
        "\n",
        "print(f\"Submission file saved to: {args_alternate_topk70.submission_path}\")"
      ],
      "metadata": {
        "colab": {
          "base_uri": "https://localhost:8080/"
        },
        "id": "-3RNu1zcTYKv",
        "outputId": "2fd12c23-627a-4ec2-f8d9-18d516fec511"
      },
      "execution_count": 18,
      "outputs": [
        {
          "output_type": "stream",
          "name": "stderr",
          "text": [
            "\rEvaluating:   0%|          | 0/687 [00:00<?, ?it/s]/usr/local/lib/python3.10/dist-packages/transformers/generation/configuration_utils.py:589: UserWarning: `do_sample` is set to `False`. However, `top_k` is set to `70` -- this flag is only used in sample-based generation modes. You should set `do_sample=True` or unset `top_k`.\n",
            "  warnings.warn(\n",
            "Evaluating: 100%|██████████| 687/687 [08:31<00:00,  1.34it/s]"
          ]
        },
        {
          "output_type": "stream",
          "name": "stdout",
          "text": [
            "Submission file saved to: /content/drive/MyDrive/ADL/hw2/data/submission_v3_epoch_6_topk70.jsonl\n"
          ]
        },
        {
          "output_type": "stream",
          "name": "stderr",
          "text": [
            "\n"
          ]
        }
      ]
    },
    {
      "cell_type": "code",
      "source": [
        "!python {file_path_prefix}/evaluation/eval.py -r {file_path_prefix}/data/public.jsonl -s {args_alternate_topk70.submission_path}"
      ],
      "metadata": {
        "colab": {
          "base_uri": "https://localhost:8080/"
        },
        "id": "6aqImdoHTZw3",
        "outputId": "607f2ff4-8d79-4363-8c0d-8f51b8a08994"
      },
      "execution_count": 19,
      "outputs": [
        {
          "output_type": "stream",
          "name": "stdout",
          "text": [
            "2024-10-22 13:16:46.389450: I tensorflow/core/util/port.cc:153] oneDNN custom operations are on. You may see slightly different numerical results due to floating-point round-off errors from different computation orders. To turn them off, set the environment variable `TF_ENABLE_ONEDNN_OPTS=0`.\n",
            "2024-10-22 13:16:46.407739: E external/local_xla/xla/stream_executor/cuda/cuda_fft.cc:485] Unable to register cuFFT factory: Attempting to register factory for plugin cuFFT when one has already been registered\n",
            "2024-10-22 13:16:46.429443: E external/local_xla/xla/stream_executor/cuda/cuda_dnn.cc:8454] Unable to register cuDNN factory: Attempting to register factory for plugin cuDNN when one has already been registered\n",
            "2024-10-22 13:16:46.435973: E external/local_xla/xla/stream_executor/cuda/cuda_blas.cc:1452] Unable to register cuBLAS factory: Attempting to register factory for plugin cuBLAS when one has already been registered\n",
            "2024-10-22 13:16:46.451690: I tensorflow/core/platform/cpu_feature_guard.cc:210] This TensorFlow binary is optimized to use available CPU instructions in performance-critical operations.\n",
            "To enable the following instructions: AVX2 AVX512F AVX512_VNNI FMA, in other operations, rebuild TensorFlow with the appropriate compiler flags.\n",
            "2024-10-22 13:16:47.515837: W tensorflow/compiler/tf2tensorrt/utils/py_utils.cc:38] TF-TRT Warning: Could not find TensorRT\n",
            "/usr/local/lib/python3.10/dist-packages/ckiptagger/model_ws.py:106: UserWarning: `tf.nn.rnn_cell.LSTMCell` is deprecated and will be removed in a future version. This class is equivalent as `tf.keras.layers.LSTMCell`, and will be replaced by that in Tensorflow 2.0.\n",
            "  cell = tf.compat.v1.nn.rnn_cell.LSTMCell(hidden_d, name=name)\n",
            "2024-10-22 13:16:49.517344: W tensorflow/core/common_runtime/gpu/gpu_bfc_allocator.cc:47] Overriding orig_value setting because the TF_FORCE_GPU_ALLOW_GROWTH environment variable is set. Original config value was 0.\n",
            "2024-10-22 13:16:49.517552: I tensorflow/core/common_runtime/gpu/gpu_device.cc:2021] Created device /job:localhost/replica:0/task:0/device:GPU:0 with 32373 MB memory:  -> device: 0, name: NVIDIA A100-SXM4-40GB, pci bus id: 0000:00:04.0, compute capability: 8.0\n",
            "2024-10-22 13:16:50.972521: I tensorflow/core/common_runtime/gpu/gpu_device.cc:2021] Created device /job:localhost/replica:0/task:0/device:GPU:0 with 32373 MB memory:  -> device: 0, name: NVIDIA A100-SXM4-40GB, pci bus id: 0000:00:04.0, compute capability: 8.0\n",
            "2024-10-22 13:16:51.026644: I tensorflow/compiler/mlir/mlir_graph_optimization_pass.cc:388] MLIR V1 optimization pass is not enabled\n",
            "{\n",
            "  \"rouge-1\": {\n",
            "    \"r\": 0.21695558521737526,\n",
            "    \"p\": 0.2697958912578689,\n",
            "    \"f\": 0.23370420633678365\n",
            "  },\n",
            "  \"rouge-2\": {\n",
            "    \"r\": 0.08108935130102102,\n",
            "    \"p\": 0.09992770874163713,\n",
            "    \"f\": 0.08688666877880573\n",
            "  },\n",
            "  \"rouge-l\": {\n",
            "    \"r\": 0.19640853665672536,\n",
            "    \"p\": 0.24485001258502623,\n",
            "    \"f\": 0.21169313391005237\n",
            "  }\n",
            "}\n"
          ]
        }
      ]
    },
    {
      "cell_type": "markdown",
      "source": [
        "### Top p"
      ],
      "metadata": {
        "id": "u4-QLY9uUje3"
      }
    },
    {
      "cell_type": "code",
      "source": [
        "# top p\n",
        "args_alternate_topp75 = {\n",
        "    \"model_name\": \"google/mt5-small\",\n",
        "    \"eval_dataset_path\": f\"{file_path_prefix}/data/public.jsonl\",\n",
        "    \"submission_path\": f\"{file_path_prefix}/data/submission_v3_epoch_6_topp75.jsonl\",\n",
        "    \"model_path\": f\"{file_path_prefix}/models/fine_tuned_mt5_v3_epoch_6.pth\",\n",
        "    \"tokenizer_path\": f\"{file_path_prefix}/models/fine_tuned_mt5_v3_epoch_6\",\n",
        "    \"batch_size\": 8,\n",
        "    \"max_input_length\": 512,\n",
        "    \"max_output_length\": 100,\n",
        "    \"num_beams\": 5,\n",
        "    \"early_stopping\": True,\n",
        "    \"temperature\": 1,\n",
        "    \"top_p\": 0.75,\n",
        "    \"top_k\": 50\n",
        "}\n",
        "\n",
        "args_alternate_topp50 = {\n",
        "    \"model_name\": \"google/mt5-small\",\n",
        "    \"eval_dataset_path\": f\"{file_path_prefix}/data/public.jsonl\",\n",
        "    \"submission_path\": f\"{file_path_prefix}/data/submission_v3_epoch_6_topp50.jsonl\",\n",
        "    \"model_path\": f\"{file_path_prefix}/models/fine_tuned_mt5_v3_epoch_6.pth\",\n",
        "    \"tokenizer_path\": f\"{file_path_prefix}/models/fine_tuned_mt5_v3_epoch_6\",\n",
        "    \"batch_size\": 8,\n",
        "    \"max_input_length\": 512,\n",
        "    \"max_output_length\": 100,\n",
        "    \"num_beams\": 5,\n",
        "    \"early_stopping\": True,\n",
        "    \"temperature\": 1,\n",
        "    \"top_p\": 0.50,\n",
        "    \"top_k\": 50\n",
        "}\n",
        "\n",
        "args_alternate_topp50 = Namespace(**args_alternate_topp50)\n",
        "args_alternate_topp75 = Namespace(**args_alternate_topp75)"
      ],
      "metadata": {
        "id": "2vJ6BYehThRt"
      },
      "execution_count": 23,
      "outputs": []
    },
    {
      "cell_type": "code",
      "source": [
        "model.eval()\n",
        "model.to(device)\n",
        "eval_loss = 0\n",
        "results = []\n",
        "\n",
        "# Add progress bar for evaluation\n",
        "with torch.no_grad():\n",
        "    progress_bar = tqdm(eval_dataloader, desc=\"Evaluating\")\n",
        "    for batch in progress_bar:\n",
        "        input_ids = batch[\"input_ids\"].to(device)\n",
        "        attention_mask = batch[\"attention_mask\"].to(device)\n",
        "        ids = batch[\"id\"]  # Assuming 'id' is included in your dataset batches for identification\n",
        "\n",
        "        # Generate predictions\n",
        "        generated_ids = model.generate(\n",
        "            input_ids=input_ids,\n",
        "            attention_mask=attention_mask,\n",
        "            max_length=args_alternate_topp50.max_output_length,\n",
        "            num_beams=args_alternate_topp50.num_beams,\n",
        "            early_stopping=args_alternate_topp50.early_stopping,\n",
        "            temperature=args_alternate_topp50.temperature,\n",
        "            top_p=args_alternate_topp50.top_p,\n",
        "            top_k=args_alternate_topp50.top_k\n",
        "        )\n",
        "\n",
        "        # Decode predictions\n",
        "        decoded_preds = tokenizer.batch_decode(generated_ids, skip_special_tokens=True)\n",
        "\n",
        "        # Format each prediction and add it to results\n",
        "        for i, title in enumerate(decoded_preds):\n",
        "            result = {\n",
        "                \"title\": title,\n",
        "                \"id\": ids[i]\n",
        "            }\n",
        "            results.append(result)\n",
        "\n",
        "# Write results to the submission file in the required format\n",
        "with open(args_alternate_topp50.submission_path, \"w\", encoding=\"utf-8\") as f:\n",
        "    for result in results:\n",
        "        json.dump(result, f, ensure_ascii=False)\n",
        "        f.write(\"\\n\")\n",
        "\n",
        "print(f\"Submission file saved to: {args_alternate_topp50.submission_path}\")"
      ],
      "metadata": {
        "colab": {
          "base_uri": "https://localhost:8080/"
        },
        "id": "XfXKqKXDVCiV",
        "outputId": "e9d177b3-41df-4ac6-f1c4-53c9b5fde9a6"
      },
      "execution_count": 24,
      "outputs": [
        {
          "output_type": "stream",
          "name": "stderr",
          "text": [
            "\rEvaluating:   0%|          | 0/687 [00:00<?, ?it/s]/usr/local/lib/python3.10/dist-packages/transformers/generation/configuration_utils.py:572: UserWarning: `do_sample` is set to `False`. However, `top_p` is set to `0.5` -- this flag is only used in sample-based generation modes. You should set `do_sample=True` or unset `top_p`.\n",
            "  warnings.warn(\n",
            "Evaluating: 100%|██████████| 687/687 [08:31<00:00,  1.34it/s]"
          ]
        },
        {
          "output_type": "stream",
          "name": "stdout",
          "text": [
            "Submission file saved to: /content/drive/MyDrive/ADL/hw2/data/submission_v3_epoch_6_topp50.jsonl\n"
          ]
        },
        {
          "output_type": "stream",
          "name": "stderr",
          "text": [
            "\n"
          ]
        }
      ]
    },
    {
      "cell_type": "code",
      "source": [
        "!python {file_path_prefix}/evaluation/eval.py -r {file_path_prefix}/data/public.jsonl -s {args_alternate_topp50.submission_path}"
      ],
      "metadata": {
        "colab": {
          "base_uri": "https://localhost:8080/"
        },
        "id": "7K-Q0eQaVTbM",
        "outputId": "d72c8640-eed9-4324-a76b-c0709826a068"
      },
      "execution_count": 25,
      "outputs": [
        {
          "output_type": "stream",
          "name": "stdout",
          "text": [
            "2024-10-22 13:50:11.662844: I tensorflow/core/util/port.cc:153] oneDNN custom operations are on. You may see slightly different numerical results due to floating-point round-off errors from different computation orders. To turn them off, set the environment variable `TF_ENABLE_ONEDNN_OPTS=0`.\n",
            "2024-10-22 13:50:11.681051: E external/local_xla/xla/stream_executor/cuda/cuda_fft.cc:485] Unable to register cuFFT factory: Attempting to register factory for plugin cuFFT when one has already been registered\n",
            "2024-10-22 13:50:11.702649: E external/local_xla/xla/stream_executor/cuda/cuda_dnn.cc:8454] Unable to register cuDNN factory: Attempting to register factory for plugin cuDNN when one has already been registered\n",
            "2024-10-22 13:50:11.709385: E external/local_xla/xla/stream_executor/cuda/cuda_blas.cc:1452] Unable to register cuBLAS factory: Attempting to register factory for plugin cuBLAS when one has already been registered\n",
            "2024-10-22 13:50:11.724993: I tensorflow/core/platform/cpu_feature_guard.cc:210] This TensorFlow binary is optimized to use available CPU instructions in performance-critical operations.\n",
            "To enable the following instructions: AVX2 AVX512F AVX512_VNNI FMA, in other operations, rebuild TensorFlow with the appropriate compiler flags.\n",
            "2024-10-22 13:50:12.768335: W tensorflow/compiler/tf2tensorrt/utils/py_utils.cc:38] TF-TRT Warning: Could not find TensorRT\n",
            "/usr/local/lib/python3.10/dist-packages/ckiptagger/model_ws.py:106: UserWarning: `tf.nn.rnn_cell.LSTMCell` is deprecated and will be removed in a future version. This class is equivalent as `tf.keras.layers.LSTMCell`, and will be replaced by that in Tensorflow 2.0.\n",
            "  cell = tf.compat.v1.nn.rnn_cell.LSTMCell(hidden_d, name=name)\n",
            "2024-10-22 13:50:14.774137: W tensorflow/core/common_runtime/gpu/gpu_bfc_allocator.cc:47] Overriding orig_value setting because the TF_FORCE_GPU_ALLOW_GROWTH environment variable is set. Original config value was 0.\n",
            "2024-10-22 13:50:14.774359: I tensorflow/core/common_runtime/gpu/gpu_device.cc:2021] Created device /job:localhost/replica:0/task:0/device:GPU:0 with 32373 MB memory:  -> device: 0, name: NVIDIA A100-SXM4-40GB, pci bus id: 0000:00:04.0, compute capability: 8.0\n",
            "2024-10-22 13:50:16.229038: I tensorflow/core/common_runtime/gpu/gpu_device.cc:2021] Created device /job:localhost/replica:0/task:0/device:GPU:0 with 32373 MB memory:  -> device: 0, name: NVIDIA A100-SXM4-40GB, pci bus id: 0000:00:04.0, compute capability: 8.0\n",
            "2024-10-22 13:50:16.280635: I tensorflow/compiler/mlir/mlir_graph_optimization_pass.cc:388] MLIR V1 optimization pass is not enabled\n",
            "{\n",
            "  \"rouge-1\": {\n",
            "    \"r\": 0.21695558521737526,\n",
            "    \"p\": 0.2697958912578689,\n",
            "    \"f\": 0.23370420633678365\n",
            "  },\n",
            "  \"rouge-2\": {\n",
            "    \"r\": 0.08108935130102102,\n",
            "    \"p\": 0.09992770874163713,\n",
            "    \"f\": 0.08688666877880573\n",
            "  },\n",
            "  \"rouge-l\": {\n",
            "    \"r\": 0.19640853665672536,\n",
            "    \"p\": 0.24485001258502623,\n",
            "    \"f\": 0.21169313391005237\n",
            "  }\n",
            "}\n"
          ]
        }
      ]
    },
    {
      "cell_type": "code",
      "source": [
        "model.eval()\n",
        "model.to(device)\n",
        "eval_loss = 0\n",
        "results = []\n",
        "\n",
        "# Add progress bar for evaluation\n",
        "with torch.no_grad():\n",
        "    progress_bar = tqdm(eval_dataloader, desc=\"Evaluating\")\n",
        "    for batch in progress_bar:\n",
        "        input_ids = batch[\"input_ids\"].to(device)\n",
        "        attention_mask = batch[\"attention_mask\"].to(device)\n",
        "        ids = batch[\"id\"]  # Assuming 'id' is included in your dataset batches for identification\n",
        "\n",
        "        # Generate predictions\n",
        "        generated_ids = model.generate(\n",
        "            input_ids=input_ids,\n",
        "            attention_mask=attention_mask,\n",
        "            max_length=args_alternate_topp75.max_output_length,\n",
        "            num_beams=args_alternate_topp75.num_beams,\n",
        "            early_stopping=args_alternate_topp75.early_stopping,\n",
        "            temperature=args_alternate_topp75.temperature,\n",
        "            top_p=args_alternate_topp75.top_p,\n",
        "            top_k=args_alternate_topp75.top_k\n",
        "        )\n",
        "\n",
        "        # Decode predictions\n",
        "        decoded_preds = tokenizer.batch_decode(generated_ids, skip_special_tokens=True)\n",
        "\n",
        "        # Format each prediction and add it to results\n",
        "        for i, title in enumerate(decoded_preds):\n",
        "            result = {\n",
        "                \"title\": title,\n",
        "                \"id\": ids[i]\n",
        "            }\n",
        "            results.append(result)\n",
        "\n",
        "# Write results to the submission file in the required format\n",
        "with open(args_alternate_topp75.submission_path, \"w\", encoding=\"utf-8\") as f:\n",
        "    for result in results:\n",
        "        json.dump(result, f, ensure_ascii=False)\n",
        "        f.write(\"\\n\")\n",
        "\n",
        "print(f\"Submission file saved to: {args_alternate_topp75.submission_path}\")"
      ],
      "metadata": {
        "colab": {
          "base_uri": "https://localhost:8080/"
        },
        "id": "WJ_hmbEvVXiF",
        "outputId": "5df503c6-75ce-4c94-ffa0-5445e22fef55"
      },
      "execution_count": 26,
      "outputs": [
        {
          "output_type": "stream",
          "name": "stderr",
          "text": [
            "\rEvaluating:   0%|          | 0/687 [00:00<?, ?it/s]/usr/local/lib/python3.10/dist-packages/transformers/generation/configuration_utils.py:572: UserWarning: `do_sample` is set to `False`. However, `top_p` is set to `0.75` -- this flag is only used in sample-based generation modes. You should set `do_sample=True` or unset `top_p`.\n",
            "  warnings.warn(\n",
            "Evaluating: 100%|██████████| 687/687 [08:30<00:00,  1.35it/s]"
          ]
        },
        {
          "output_type": "stream",
          "name": "stdout",
          "text": [
            "Submission file saved to: /content/drive/MyDrive/ADL/hw2/data/submission_v3_epoch_6_topp75.jsonl\n"
          ]
        },
        {
          "output_type": "stream",
          "name": "stderr",
          "text": [
            "\n"
          ]
        }
      ]
    },
    {
      "cell_type": "code",
      "source": [
        "!python {file_path_prefix}/evaluation/eval.py -r {file_path_prefix}/data/public.jsonl -s {args_alternate_topp75.submission_path}"
      ],
      "metadata": {
        "colab": {
          "base_uri": "https://localhost:8080/"
        },
        "id": "ywjliv0UVZIp",
        "outputId": "1473cac4-4cae-4a5e-a236-beea5168a789"
      },
      "execution_count": 27,
      "outputs": [
        {
          "output_type": "stream",
          "name": "stdout",
          "text": [
            "2024-10-22 13:58:54.714498: I tensorflow/core/util/port.cc:153] oneDNN custom operations are on. You may see slightly different numerical results due to floating-point round-off errors from different computation orders. To turn them off, set the environment variable `TF_ENABLE_ONEDNN_OPTS=0`.\n",
            "2024-10-22 13:58:54.732520: E external/local_xla/xla/stream_executor/cuda/cuda_fft.cc:485] Unable to register cuFFT factory: Attempting to register factory for plugin cuFFT when one has already been registered\n",
            "2024-10-22 13:58:54.753848: E external/local_xla/xla/stream_executor/cuda/cuda_dnn.cc:8454] Unable to register cuDNN factory: Attempting to register factory for plugin cuDNN when one has already been registered\n",
            "2024-10-22 13:58:54.760314: E external/local_xla/xla/stream_executor/cuda/cuda_blas.cc:1452] Unable to register cuBLAS factory: Attempting to register factory for plugin cuBLAS when one has already been registered\n",
            "2024-10-22 13:58:54.775634: I tensorflow/core/platform/cpu_feature_guard.cc:210] This TensorFlow binary is optimized to use available CPU instructions in performance-critical operations.\n",
            "To enable the following instructions: AVX2 AVX512F AVX512_VNNI FMA, in other operations, rebuild TensorFlow with the appropriate compiler flags.\n",
            "2024-10-22 13:58:55.832827: W tensorflow/compiler/tf2tensorrt/utils/py_utils.cc:38] TF-TRT Warning: Could not find TensorRT\n",
            "/usr/local/lib/python3.10/dist-packages/ckiptagger/model_ws.py:106: UserWarning: `tf.nn.rnn_cell.LSTMCell` is deprecated and will be removed in a future version. This class is equivalent as `tf.keras.layers.LSTMCell`, and will be replaced by that in Tensorflow 2.0.\n",
            "  cell = tf.compat.v1.nn.rnn_cell.LSTMCell(hidden_d, name=name)\n",
            "2024-10-22 13:58:57.864049: W tensorflow/core/common_runtime/gpu/gpu_bfc_allocator.cc:47] Overriding orig_value setting because the TF_FORCE_GPU_ALLOW_GROWTH environment variable is set. Original config value was 0.\n",
            "2024-10-22 13:58:57.864242: I tensorflow/core/common_runtime/gpu/gpu_device.cc:2021] Created device /job:localhost/replica:0/task:0/device:GPU:0 with 32373 MB memory:  -> device: 0, name: NVIDIA A100-SXM4-40GB, pci bus id: 0000:00:04.0, compute capability: 8.0\n",
            "2024-10-22 13:58:59.336321: I tensorflow/core/common_runtime/gpu/gpu_device.cc:2021] Created device /job:localhost/replica:0/task:0/device:GPU:0 with 32373 MB memory:  -> device: 0, name: NVIDIA A100-SXM4-40GB, pci bus id: 0000:00:04.0, compute capability: 8.0\n",
            "2024-10-22 13:58:59.388145: I tensorflow/compiler/mlir/mlir_graph_optimization_pass.cc:388] MLIR V1 optimization pass is not enabled\n",
            "{\n",
            "  \"rouge-1\": {\n",
            "    \"r\": 0.21695558521737526,\n",
            "    \"p\": 0.2697958912578689,\n",
            "    \"f\": 0.23370420633678365\n",
            "  },\n",
            "  \"rouge-2\": {\n",
            "    \"r\": 0.08108935130102102,\n",
            "    \"p\": 0.09992770874163713,\n",
            "    \"f\": 0.08688666877880573\n",
            "  },\n",
            "  \"rouge-l\": {\n",
            "    \"r\": 0.19640853665672536,\n",
            "    \"p\": 0.24485001258502623,\n",
            "    \"f\": 0.21169313391005237\n",
            "  }\n",
            "}\n"
          ]
        }
      ]
    },
    {
      "cell_type": "code",
      "source": [],
      "metadata": {
        "id": "DQLSY2Fndjv1"
      },
      "execution_count": null,
      "outputs": []
    }
  ],
  "metadata": {
    "accelerator": "GPU",
    "colab": {
      "gpuType": "A100",
      "machine_shape": "hm",
      "provenance": []
    },
    "kernelspec": {
      "display_name": "Python 3",
      "name": "python3"
    },
    "language_info": {
      "name": "python"
    }
  },
  "nbformat": 4,
  "nbformat_minor": 0
}